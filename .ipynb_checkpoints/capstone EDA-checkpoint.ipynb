{
 "cells": [
  {
   "cell_type": "code",
   "execution_count": 71,
   "metadata": {},
   "outputs": [],
   "source": [
    "import pandas as pd\n",
    "import numpy as np\n",
    "import seaborn as sns"
   ]
  },
  {
   "cell_type": "markdown",
   "metadata": {},
   "source": [
    "## Read in the Uber trips saved on local machine"
   ]
  },
  {
   "cell_type": "code",
   "execution_count": 2,
   "metadata": {},
   "outputs": [],
   "source": [
    "week1 = pd.read_csv(\"UBER TRIP DOCS/week1.csv\")\n",
    "week2 = pd.read_csv(\"UBER TRIP DOCS/week2.csv\")\n",
    "week3 = pd.read_csv(\"UBER TRIP DOCS/week3.csv\")\n",
    "week4 = pd.read_csv(\"UBER TRIP DOCS/week4.csv\")\n",
    "week5 = pd.read_csv(\"UBER TRIP DOCS/week5.csv\")\n",
    "week6 = pd.read_csv(\"UBER TRIP DOCS/week6.csv\")\n",
    "week7 = pd.read_csv(\"UBER TRIP DOCS/week7.csv\")\n",
    "week8 = pd.read_csv(\"UBER TRIP DOCS/week8.csv\")\n",
    "week9 = pd.read_csv(\"UBER TRIP DOCS/week9.csv\")\n",
    "week10 = pd.read_csv(\"UBER TRIP DOCS/week10.csv\")\n",
    "week11 = pd.read_csv(\"UBER TRIP DOCS/week11.csv\")\n",
    "week12 = pd.read_csv(\"UBER TRIP DOCS/week12.csv\")\n",
    "week13 = pd.read_csv(\"UBER TRIP DOCS/week13.csv\")\n",
    "week14 = pd.read_csv(\"UBER TRIP DOCS/week14.csv\")\n",
    "week15 = pd.read_csv(\"UBER TRIP DOCS/week15.csv\")\n",
    "week16 = pd.read_csv(\"UBER TRIP DOCS/week16.csv\")\n",
    "week17 = pd.read_csv(\"UBER TRIP DOCS/week17.csv\")\n",
    "week18 = pd.read_csv(\"UBER TRIP DOCS/week18.csv\")\n",
    "week19 = pd.read_csv(\"UBER TRIP DOCS/week19.csv\")\n",
    "week20 = pd.read_csv(\"UBER TRIP DOCS/week20.csv\")\n",
    "week21 = pd.read_csv(\"UBER TRIP DOCS/week21.csv\")\n",
    "week22 = pd.read_csv(\"UBER TRIP DOCS/week22.csv\")\n",
    "\n"
   ]
  },
  {
   "cell_type": "code",
   "execution_count": 3,
   "metadata": {},
   "outputs": [],
   "source": [
    "trip1 = pd.read_csv(\"UBER TRIP DOCS/yinka1.csv\")\n",
    "trip2 = pd.read_csv(\"UBER TRIP DOCS/yinka2.csv\")\n",
    "trip3 = pd.read_csv(\"UBER TRIP DOCS/yinka3.csv\")\n",
    "trip4 = pd.read_csv(\"UBER TRIP DOCS/yinka4.csv\")\n",
    "trip5 = pd.read_csv(\"UBER TRIP DOCS/yinka5.csv\")\n",
    "trip6 = pd.read_csv(\"UBER TRIP DOCS/yinka6.csv\")\n",
    "trip7 = pd.read_csv(\"UBER TRIP DOCS/yinka7.csv\")\n",
    "trip8 = pd.read_csv(\"UBER TRIP DOCS/yinka8.csv\")\n",
    "trip9 = pd.read_csv(\"UBER TRIP DOCS/yinka9.csv\")\n",
    "trip10 = pd.read_csv(\"UBER TRIP DOCS/yinka10.csv\")\n",
    "trip11 = pd.read_csv(\"UBER TRIP DOCS/yinka11.csv\")\n",
    "trip12 = pd.read_csv(\"UBER TRIP DOCS/yinka12.csv\")\n",
    "trip13 = pd.read_csv(\"UBER TRIP DOCS/yinka13.csv\")\n",
    "trip14 = pd.read_csv(\"UBER TRIP DOCS/yinka14.csv\")\n",
    "trip15 = pd.read_csv(\"UBER TRIP DOCS/yinka15.csv\")\n",
    "trip16 = pd.read_csv(\"UBER TRIP DOCS/yinka16.csv\")\n",
    "trip17 = pd.read_csv(\"UBER TRIP DOCS/yinka17.csv\")\n",
    "trip18 = pd.read_csv(\"UBER TRIP DOCS/yinka18.csv\")\n",
    "trip19 = pd.read_csv(\"UBER TRIP DOCS/yinka19.csv\")\n",
    "trip20 = pd.read_csv(\"UBER TRIP DOCS/yinka20.csv\")\n",
    "trip21 = pd.read_csv(\"UBER TRIP DOCS/yinka21.csv\")\n",
    "trip22 = pd.read_csv(\"UBER TRIP DOCS/yinka22.csv\")\n",
    "trip23 = pd.read_csv(\"UBER TRIP DOCS/yinka23.csv\")\n",
    "trip24 = pd.read_csv(\"UBER TRIP DOCS/yinka24.csv\")\n",
    "trip25 = pd.read_csv(\"UBER TRIP DOCS/yinka25.csv\")\n",
    "trip26 = pd.read_csv(\"UBER TRIP DOCS/yinka26.csv\")\n",
    "trip27 = pd.read_csv(\"UBER TRIP DOCS/yinka27.csv\")\n",
    "trip28 = pd.read_csv(\"UBER TRIP DOCS/yinka28.csv\")\n",
    "trip29 = pd.read_csv(\"UBER TRIP DOCS/yinka29.csv\")\n",
    "trip30 = pd.read_csv(\"UBER TRIP DOCS/yinka30.csv\")\n",
    "trip31 = pd.read_csv(\"UBER TRIP DOCS/yinka31.csv\")\n",
    "trip32 = pd.read_csv(\"UBER TRIP DOCS/yinka32.csv\")\n",
    "trip33 = pd.read_csv(\"UBER TRIP DOCS/yinka33.csv\")\n",
    "trip34 = pd.read_csv(\"UBER TRIP DOCS/yinka34.csv\")\n",
    "trip35 = pd.read_csv(\"UBER TRIP DOCS/yinka35.csv\")\n",
    "trip36 = pd.read_csv(\"UBER TRIP DOCS/yinka36.csv\")\n",
    "trip37 = pd.read_csv(\"UBER TRIP DOCS/yinka37.csv\")\n",
    "trip38 = pd.read_csv(\"UBER TRIP DOCS/yinka38.csv\")\n",
    "trip39 = pd.read_csv(\"UBER TRIP DOCS/yinka39.csv\")\n",
    "trip40 = pd.read_csv(\"UBER TRIP DOCS/yinka40.csv\")\n",
    "trip41 = pd.read_csv(\"UBER TRIP DOCS/yinka41.csv\")\n",
    "trip42 = pd.read_csv(\"UBER TRIP DOCS/yinka42.csv\")\n",
    "trip43 = pd.read_csv(\"UBER TRIP DOCS/yinka43.csv\")\n",
    "trip44 = pd.read_csv(\"UBER TRIP DOCS/yinka44.csv\")\n",
    "trip45 = pd.read_csv(\"UBER TRIP DOCS/yinka45.csv\")\n",
    "trip46 = pd.read_csv(\"UBER TRIP DOCS/yinka46.csv\")\n",
    "trip47 = pd.read_csv(\"UBER TRIP DOCS/yinka47.csv\")\n",
    "trip48 = pd.read_csv(\"UBER TRIP DOCS/yinka48.csv\")\n",
    "\n"
   ]
  },
  {
   "cell_type": "markdown",
   "metadata": {},
   "source": [
    "## merge the different uber trips as saved on local machine. i decided the to use the concat method out of the different methods available"
   ]
  },
  {
   "cell_type": "code",
   "execution_count": 4,
   "metadata": {},
   "outputs": [
    {
     "name": "stderr",
     "output_type": "stream",
     "text": [
      "/anaconda3/lib/python3.6/site-packages/ipykernel_launcher.py:4: FutureWarning: Sorting because non-concatenation axis is not aligned. A future version\n",
      "of pandas will change to not sort by default.\n",
      "\n",
      "To accept the future behavior, pass 'sort=False'.\n",
      "\n",
      "To retain the current behavior and silence the warning, pass 'sort=True'.\n",
      "\n",
      "  after removing the cwd from sys.path.\n"
     ]
    }
   ],
   "source": [
    "df1 = pd.concat([week1, week2, week3, week4, week5, week6, week7,\n",
    "               week8, week9, week10, week11, week12, week13,\n",
    "               week14, week15, week16, week17, week18,\n",
    "               week19, week20, week21, week22], axis=0)"
   ]
  },
  {
   "cell_type": "code",
   "execution_count": 5,
   "metadata": {},
   "outputs": [
    {
     "name": "stderr",
     "output_type": "stream",
     "text": [
      "/anaconda3/lib/python3.6/site-packages/ipykernel_launcher.py:8: FutureWarning: Sorting because non-concatenation axis is not aligned. A future version\n",
      "of pandas will change to not sort by default.\n",
      "\n",
      "To accept the future behavior, pass 'sort=False'.\n",
      "\n",
      "To retain the current behavior and silence the warning, pass 'sort=True'.\n",
      "\n",
      "  \n"
     ]
    }
   ],
   "source": [
    "df2 = pd.concat([trip1, trip2, trip3, trip4, trip5, trip6, trip7,\n",
    "                trip8, trip9, trip10, trip11, trip12, trip13, trip14,\n",
    "                trip15, trip16, trip17, trip18, trip19, trip20,\n",
    "                trip21, trip22, trip23, trip24, trip25, trip26,\n",
    "                trip27, trip28, trip29, trip30, trip31, trip32,\n",
    "                trip33, trip34, trip35, trip36, trip37, trip38,\n",
    "                trip39, trip40, trip41, trip42, trip43, trip44,\n",
    "                trip45, trip46, trip47, trip48], axis=0)"
   ]
  },
  {
   "cell_type": "markdown",
   "metadata": {},
   "source": [
    "## Check the shape of the two Dataframe created from the Uber documentation"
   ]
  },
  {
   "cell_type": "code",
   "execution_count": 6,
   "metadata": {
    "scrolled": true
   },
   "outputs": [
    {
     "data": {
      "text/plain": [
       "(1260, 28)"
      ]
     },
     "execution_count": 6,
     "metadata": {},
     "output_type": "execute_result"
    }
   ],
   "source": [
    "df1.shape"
   ]
  },
  {
   "cell_type": "code",
   "execution_count": 7,
   "metadata": {},
   "outputs": [
    {
     "data": {
      "text/plain": [
       "(955, 23)"
      ]
     },
     "execution_count": 7,
     "metadata": {},
     "output_type": "execute_result"
    }
   ],
   "source": [
    "df2.shape"
   ]
  },
  {
   "cell_type": "markdown",
   "metadata": {},
   "source": [
    "## Check column names of the Dataframe"
   ]
  },
  {
   "cell_type": "code",
   "execution_count": 8,
   "metadata": {
    "scrolled": true
   },
   "outputs": [
    {
     "data": {
      "text/plain": [
       "Index(['Additional Pickups', 'Base Fare', 'Black Car Fund', 'Booking Fee',\n",
       "       'Boost', 'Cancellation', 'Consecutive Trips Promotion', 'Date/Time',\n",
       "       'Distance', 'Driver Name', 'Email', 'Fare', 'Long Pickup Fee',\n",
       "       'Min Fare Supplement', 'Other Promotions', 'Phone Number',\n",
       "       'Quest Promotion', 'Sales Tax', 'Surge', 'Time', 'Tip', 'Toll', 'Total',\n",
       "       'Trip ID', 'Type', 'Uber Fee', 'Vehicle Related Fee', 'Wait Time'],\n",
       "      dtype='object')"
      ]
     },
     "execution_count": 8,
     "metadata": {},
     "output_type": "execute_result"
    }
   ],
   "source": [
    "df1.columns"
   ]
  },
  {
   "cell_type": "code",
   "execution_count": 9,
   "metadata": {},
   "outputs": [
    {
     "data": {
      "text/plain": [
       "Index(['Additional Pickups', 'Base Fare', 'Booking Fee', 'Cancellation',\n",
       "       'Consecutive Trips Promotion', 'Date/Time', 'Distance', 'Driver Name',\n",
       "       'Email', 'Instant Pay Fees', 'Long Pickup Fee', 'Min Fare Supplement',\n",
       "       'Other Promotions', 'Phone Number', 'Quest Promotion', 'Surge', 'Time',\n",
       "       'Tip', 'Toll', 'Total', 'Trip ID', 'Type', 'Wait Time'],\n",
       "      dtype='object')"
      ]
     },
     "execution_count": 9,
     "metadata": {},
     "output_type": "execute_result"
    }
   ],
   "source": [
    "df2.columns"
   ]
  },
  {
   "cell_type": "code",
   "execution_count": 10,
   "metadata": {},
   "outputs": [
    {
     "data": {
      "text/html": [
       "<div>\n",
       "<style scoped>\n",
       "    .dataframe tbody tr th:only-of-type {\n",
       "        vertical-align: middle;\n",
       "    }\n",
       "\n",
       "    .dataframe tbody tr th {\n",
       "        vertical-align: top;\n",
       "    }\n",
       "\n",
       "    .dataframe thead th {\n",
       "        text-align: right;\n",
       "    }\n",
       "</style>\n",
       "<table border=\"1\" class=\"dataframe\">\n",
       "  <thead>\n",
       "    <tr style=\"text-align: right;\">\n",
       "      <th></th>\n",
       "      <th>Additional Pickups</th>\n",
       "      <th>Base Fare</th>\n",
       "      <th>Booking Fee</th>\n",
       "      <th>Cancellation</th>\n",
       "      <th>Consecutive Trips Promotion</th>\n",
       "      <th>Date/Time</th>\n",
       "      <th>Distance</th>\n",
       "      <th>Driver Name</th>\n",
       "      <th>Email</th>\n",
       "      <th>Instant Pay Fees</th>\n",
       "      <th>...</th>\n",
       "      <th>Phone Number</th>\n",
       "      <th>Quest Promotion</th>\n",
       "      <th>Surge</th>\n",
       "      <th>Time</th>\n",
       "      <th>Tip</th>\n",
       "      <th>Toll</th>\n",
       "      <th>Total</th>\n",
       "      <th>Trip ID</th>\n",
       "      <th>Type</th>\n",
       "      <th>Wait Time</th>\n",
       "    </tr>\n",
       "  </thead>\n",
       "  <tbody>\n",
       "    <tr>\n",
       "      <th>0</th>\n",
       "      <td>$0.75</td>\n",
       "      <td>NaN</td>\n",
       "      <td>NaN</td>\n",
       "      <td>NaN</td>\n",
       "      <td>NaN</td>\n",
       "      <td>Wednesday, December 19, 2018 11:06 PM</td>\n",
       "      <td>$0.93</td>\n",
       "      <td>Olayinka Ayeye</td>\n",
       "      <td>NaN</td>\n",
       "      <td>NaN</td>\n",
       "      <td>...</td>\n",
       "      <td>NaN</td>\n",
       "      <td>NaN</td>\n",
       "      <td>$0.54</td>\n",
       "      <td>$0.85</td>\n",
       "      <td>$1.00</td>\n",
       "      <td>NaN</td>\n",
       "      <td>$4.07</td>\n",
       "      <td>dfd933ad-e091-4b18-ac2b-dd0ef01fdde1</td>\n",
       "      <td>Pool</td>\n",
       "      <td>NaN</td>\n",
       "    </tr>\n",
       "    <tr>\n",
       "      <th>1</th>\n",
       "      <td>NaN</td>\n",
       "      <td>$1.72</td>\n",
       "      <td>NaN</td>\n",
       "      <td>NaN</td>\n",
       "      <td>NaN</td>\n",
       "      <td>Wednesday, December 19, 2018 6:42 PM</td>\n",
       "      <td>$1.93</td>\n",
       "      <td>Olayinka Ayeye</td>\n",
       "      <td>NaN</td>\n",
       "      <td>NaN</td>\n",
       "      <td>...</td>\n",
       "      <td>NaN</td>\n",
       "      <td>NaN</td>\n",
       "      <td>NaN</td>\n",
       "      <td>$3.36</td>\n",
       "      <td>NaN</td>\n",
       "      <td>NaN</td>\n",
       "      <td>$7.01</td>\n",
       "      <td>3d0c75ef-541e-409a-9b37-81d788d94839</td>\n",
       "      <td>UberX</td>\n",
       "      <td>NaN</td>\n",
       "    </tr>\n",
       "    <tr>\n",
       "      <th>2</th>\n",
       "      <td>NaN</td>\n",
       "      <td>NaN</td>\n",
       "      <td>NaN</td>\n",
       "      <td>$3.37</td>\n",
       "      <td>NaN</td>\n",
       "      <td>Wednesday, December 19, 2018 6:25 PM</td>\n",
       "      <td>NaN</td>\n",
       "      <td>Olayinka Ayeye</td>\n",
       "      <td>NaN</td>\n",
       "      <td>NaN</td>\n",
       "      <td>...</td>\n",
       "      <td>NaN</td>\n",
       "      <td>NaN</td>\n",
       "      <td>NaN</td>\n",
       "      <td>NaN</td>\n",
       "      <td>NaN</td>\n",
       "      <td>NaN</td>\n",
       "      <td>$3.37</td>\n",
       "      <td>67a35ad6-8fc2-4d8c-b9f4-16b6a15d93bf</td>\n",
       "      <td>UberX</td>\n",
       "      <td>NaN</td>\n",
       "    </tr>\n",
       "    <tr>\n",
       "      <th>3</th>\n",
       "      <td>$0.75</td>\n",
       "      <td>NaN</td>\n",
       "      <td>NaN</td>\n",
       "      <td>NaN</td>\n",
       "      <td>NaN</td>\n",
       "      <td>Wednesday, December 19, 2018 10:49 PM</td>\n",
       "      <td>$2.77</td>\n",
       "      <td>Olayinka Ayeye</td>\n",
       "      <td>NaN</td>\n",
       "      <td>NaN</td>\n",
       "      <td>...</td>\n",
       "      <td>NaN</td>\n",
       "      <td>NaN</td>\n",
       "      <td>$1.78</td>\n",
       "      <td>$3.16</td>\n",
       "      <td>NaN</td>\n",
       "      <td>NaN</td>\n",
       "      <td>$8.46</td>\n",
       "      <td>0138688a-8b18-4411-a9cc-d2f0840db621</td>\n",
       "      <td>Pool</td>\n",
       "      <td>NaN</td>\n",
       "    </tr>\n",
       "    <tr>\n",
       "      <th>4</th>\n",
       "      <td>NaN</td>\n",
       "      <td>$1.72</td>\n",
       "      <td>NaN</td>\n",
       "      <td>NaN</td>\n",
       "      <td>NaN</td>\n",
       "      <td>Wednesday, December 19, 2018 9:55 PM</td>\n",
       "      <td>$5.17</td>\n",
       "      <td>Olayinka Ayeye</td>\n",
       "      <td>NaN</td>\n",
       "      <td>NaN</td>\n",
       "      <td>...</td>\n",
       "      <td>NaN</td>\n",
       "      <td>NaN</td>\n",
       "      <td>NaN</td>\n",
       "      <td>$3.97</td>\n",
       "      <td>NaN</td>\n",
       "      <td>NaN</td>\n",
       "      <td>$10.86</td>\n",
       "      <td>5d561d96-ff74-42d1-a981-b39bf6c160e1</td>\n",
       "      <td>UberX VIP</td>\n",
       "      <td>NaN</td>\n",
       "    </tr>\n",
       "  </tbody>\n",
       "</table>\n",
       "<p>5 rows × 23 columns</p>\n",
       "</div>"
      ],
      "text/plain": [
       "  Additional Pickups Base Fare Booking Fee Cancellation  \\\n",
       "0              $0.75       NaN         NaN          NaN   \n",
       "1                NaN     $1.72         NaN          NaN   \n",
       "2                NaN       NaN         NaN        $3.37   \n",
       "3              $0.75       NaN         NaN          NaN   \n",
       "4                NaN     $1.72         NaN          NaN   \n",
       "\n",
       "   Consecutive Trips Promotion                              Date/Time  \\\n",
       "0                          NaN  Wednesday, December 19, 2018 11:06 PM   \n",
       "1                          NaN   Wednesday, December 19, 2018 6:42 PM   \n",
       "2                          NaN   Wednesday, December 19, 2018 6:25 PM   \n",
       "3                          NaN  Wednesday, December 19, 2018 10:49 PM   \n",
       "4                          NaN   Wednesday, December 19, 2018 9:55 PM   \n",
       "\n",
       "  Distance     Driver Name  Email  Instant Pay Fees    ...    Phone Number  \\\n",
       "0    $0.93  Olayinka Ayeye    NaN               NaN    ...             NaN   \n",
       "1    $1.93  Olayinka Ayeye    NaN               NaN    ...             NaN   \n",
       "2      NaN  Olayinka Ayeye    NaN               NaN    ...             NaN   \n",
       "3    $2.77  Olayinka Ayeye    NaN               NaN    ...             NaN   \n",
       "4    $5.17  Olayinka Ayeye    NaN               NaN    ...             NaN   \n",
       "\n",
       "  Quest Promotion  Surge   Time    Tip Toll   Total  \\\n",
       "0             NaN  $0.54  $0.85  $1.00  NaN   $4.07   \n",
       "1             NaN    NaN  $3.36    NaN  NaN   $7.01   \n",
       "2             NaN    NaN    NaN    NaN  NaN   $3.37   \n",
       "3             NaN  $1.78  $3.16    NaN  NaN   $8.46   \n",
       "4             NaN    NaN  $3.97    NaN  NaN  $10.86   \n",
       "\n",
       "                                Trip ID       Type Wait Time  \n",
       "0  dfd933ad-e091-4b18-ac2b-dd0ef01fdde1       Pool       NaN  \n",
       "1  3d0c75ef-541e-409a-9b37-81d788d94839      UberX       NaN  \n",
       "2  67a35ad6-8fc2-4d8c-b9f4-16b6a15d93bf      UberX       NaN  \n",
       "3  0138688a-8b18-4411-a9cc-d2f0840db621       Pool       NaN  \n",
       "4  5d561d96-ff74-42d1-a981-b39bf6c160e1  UberX VIP       NaN  \n",
       "\n",
       "[5 rows x 23 columns]"
      ]
     },
     "execution_count": 10,
     "metadata": {},
     "output_type": "execute_result"
    }
   ],
   "source": [
    "df2.head()"
   ]
  },
  {
   "cell_type": "code",
   "execution_count": 11,
   "metadata": {},
   "outputs": [
    {
     "data": {
      "text/html": [
       "<div>\n",
       "<style scoped>\n",
       "    .dataframe tbody tr th:only-of-type {\n",
       "        vertical-align: middle;\n",
       "    }\n",
       "\n",
       "    .dataframe tbody tr th {\n",
       "        vertical-align: top;\n",
       "    }\n",
       "\n",
       "    .dataframe thead th {\n",
       "        text-align: right;\n",
       "    }\n",
       "</style>\n",
       "<table border=\"1\" class=\"dataframe\">\n",
       "  <thead>\n",
       "    <tr style=\"text-align: right;\">\n",
       "      <th></th>\n",
       "      <th>Additional Pickups</th>\n",
       "      <th>Base Fare</th>\n",
       "      <th>Booking Fee</th>\n",
       "      <th>Cancellation</th>\n",
       "      <th>Consecutive Trips Promotion</th>\n",
       "      <th>Date/Time</th>\n",
       "      <th>Distance</th>\n",
       "      <th>Driver Name</th>\n",
       "      <th>Email</th>\n",
       "      <th>Instant Pay Fees</th>\n",
       "      <th>...</th>\n",
       "      <th>Phone Number</th>\n",
       "      <th>Quest Promotion</th>\n",
       "      <th>Surge</th>\n",
       "      <th>Time</th>\n",
       "      <th>Tip</th>\n",
       "      <th>Toll</th>\n",
       "      <th>Total</th>\n",
       "      <th>Trip ID</th>\n",
       "      <th>Type</th>\n",
       "      <th>Wait Time</th>\n",
       "    </tr>\n",
       "  </thead>\n",
       "  <tbody>\n",
       "    <tr>\n",
       "      <th>14</th>\n",
       "      <td>$0.75</td>\n",
       "      <td>NaN</td>\n",
       "      <td>NaN</td>\n",
       "      <td>NaN</td>\n",
       "      <td>NaN</td>\n",
       "      <td>Saturday, December 22, 2018 7:00 PM</td>\n",
       "      <td>$2.01</td>\n",
       "      <td>Olayinka Ayeye</td>\n",
       "      <td>NaN</td>\n",
       "      <td>NaN</td>\n",
       "      <td>...</td>\n",
       "      <td>NaN</td>\n",
       "      <td>NaN</td>\n",
       "      <td>NaN</td>\n",
       "      <td>$1.42</td>\n",
       "      <td>NaN</td>\n",
       "      <td>NaN</td>\n",
       "      <td>$4.18</td>\n",
       "      <td>f04a5537-dbbc-44b4-b274-086f25974354</td>\n",
       "      <td>Pool</td>\n",
       "      <td>NaN</td>\n",
       "    </tr>\n",
       "    <tr>\n",
       "      <th>15</th>\n",
       "      <td>$0.75</td>\n",
       "      <td>NaN</td>\n",
       "      <td>NaN</td>\n",
       "      <td>NaN</td>\n",
       "      <td>NaN</td>\n",
       "      <td>Saturday, December 22, 2018 7:03 PM</td>\n",
       "      <td>$10.21</td>\n",
       "      <td>Olayinka Ayeye</td>\n",
       "      <td>NaN</td>\n",
       "      <td>NaN</td>\n",
       "      <td>...</td>\n",
       "      <td>NaN</td>\n",
       "      <td>NaN</td>\n",
       "      <td>NaN</td>\n",
       "      <td>$8.50</td>\n",
       "      <td>NaN</td>\n",
       "      <td>$2.88</td>\n",
       "      <td>$22.34</td>\n",
       "      <td>fc6b7c98-7491-49ae-bea5-4b78860a4c2e</td>\n",
       "      <td>Pool</td>\n",
       "      <td>NaN</td>\n",
       "    </tr>\n",
       "    <tr>\n",
       "      <th>16</th>\n",
       "      <td>NaN</td>\n",
       "      <td>$1.72</td>\n",
       "      <td>NaN</td>\n",
       "      <td>NaN</td>\n",
       "      <td>NaN</td>\n",
       "      <td>Saturday, December 22, 2018 11:47 PM</td>\n",
       "      <td>$5.82</td>\n",
       "      <td>Olayinka Ayeye</td>\n",
       "      <td>NaN</td>\n",
       "      <td>NaN</td>\n",
       "      <td>...</td>\n",
       "      <td>NaN</td>\n",
       "      <td>NaN</td>\n",
       "      <td>NaN</td>\n",
       "      <td>$5.95</td>\n",
       "      <td>NaN</td>\n",
       "      <td>NaN</td>\n",
       "      <td>$13.49</td>\n",
       "      <td>dba9a7b9-b7db-4638-a06d-59e39c04dcff</td>\n",
       "      <td>UberX</td>\n",
       "      <td>NaN</td>\n",
       "    </tr>\n",
       "    <tr>\n",
       "      <th>17</th>\n",
       "      <td>NaN</td>\n",
       "      <td>$1.72</td>\n",
       "      <td>NaN</td>\n",
       "      <td>NaN</td>\n",
       "      <td>NaN</td>\n",
       "      <td>Saturday, December 22, 2018 7:01 PM</td>\n",
       "      <td>$3.77</td>\n",
       "      <td>Olayinka Ayeye</td>\n",
       "      <td>NaN</td>\n",
       "      <td>NaN</td>\n",
       "      <td>...</td>\n",
       "      <td>NaN</td>\n",
       "      <td>NaN</td>\n",
       "      <td>NaN</td>\n",
       "      <td>$3.11</td>\n",
       "      <td>NaN</td>\n",
       "      <td>NaN</td>\n",
       "      <td>$8.60</td>\n",
       "      <td>205a05a6-eb03-4ad7-af06-8577bd554352</td>\n",
       "      <td>Pool</td>\n",
       "      <td>NaN</td>\n",
       "    </tr>\n",
       "    <tr>\n",
       "      <th>18</th>\n",
       "      <td>$0.75</td>\n",
       "      <td>NaN</td>\n",
       "      <td>NaN</td>\n",
       "      <td>NaN</td>\n",
       "      <td>NaN</td>\n",
       "      <td>Sunday, December 23, 2018 1:09 AM</td>\n",
       "      <td>$0.53</td>\n",
       "      <td>Olayinka Ayeye</td>\n",
       "      <td>NaN</td>\n",
       "      <td>NaN</td>\n",
       "      <td>...</td>\n",
       "      <td>NaN</td>\n",
       "      <td>NaN</td>\n",
       "      <td>NaN</td>\n",
       "      <td>$0.64</td>\n",
       "      <td>NaN</td>\n",
       "      <td>NaN</td>\n",
       "      <td>$1.92</td>\n",
       "      <td>d3df1dbd-666e-4f6e-9866-a9bf53660123</td>\n",
       "      <td>Pool</td>\n",
       "      <td>NaN</td>\n",
       "    </tr>\n",
       "  </tbody>\n",
       "</table>\n",
       "<p>5 rows × 23 columns</p>\n",
       "</div>"
      ],
      "text/plain": [
       "   Additional Pickups Base Fare Booking Fee Cancellation  \\\n",
       "14              $0.75       NaN         NaN          NaN   \n",
       "15              $0.75       NaN         NaN          NaN   \n",
       "16                NaN     $1.72         NaN          NaN   \n",
       "17                NaN     $1.72         NaN          NaN   \n",
       "18              $0.75       NaN         NaN          NaN   \n",
       "\n",
       "    Consecutive Trips Promotion                             Date/Time  \\\n",
       "14                          NaN   Saturday, December 22, 2018 7:00 PM   \n",
       "15                          NaN   Saturday, December 22, 2018 7:03 PM   \n",
       "16                          NaN  Saturday, December 22, 2018 11:47 PM   \n",
       "17                          NaN   Saturday, December 22, 2018 7:01 PM   \n",
       "18                          NaN     Sunday, December 23, 2018 1:09 AM   \n",
       "\n",
       "   Distance     Driver Name  Email  Instant Pay Fees    ...    Phone Number  \\\n",
       "14    $2.01  Olayinka Ayeye    NaN               NaN    ...             NaN   \n",
       "15   $10.21  Olayinka Ayeye    NaN               NaN    ...             NaN   \n",
       "16    $5.82  Olayinka Ayeye    NaN               NaN    ...             NaN   \n",
       "17    $3.77  Olayinka Ayeye    NaN               NaN    ...             NaN   \n",
       "18    $0.53  Olayinka Ayeye    NaN               NaN    ...             NaN   \n",
       "\n",
       "   Quest Promotion  Surge   Time  Tip   Toll   Total  \\\n",
       "14             NaN    NaN  $1.42  NaN    NaN   $4.18   \n",
       "15             NaN    NaN  $8.50  NaN  $2.88  $22.34   \n",
       "16             NaN    NaN  $5.95  NaN    NaN  $13.49   \n",
       "17             NaN    NaN  $3.11  NaN    NaN   $8.60   \n",
       "18             NaN    NaN  $0.64  NaN    NaN   $1.92   \n",
       "\n",
       "                                 Trip ID   Type Wait Time  \n",
       "14  f04a5537-dbbc-44b4-b274-086f25974354   Pool       NaN  \n",
       "15  fc6b7c98-7491-49ae-bea5-4b78860a4c2e   Pool       NaN  \n",
       "16  dba9a7b9-b7db-4638-a06d-59e39c04dcff  UberX       NaN  \n",
       "17  205a05a6-eb03-4ad7-af06-8577bd554352   Pool       NaN  \n",
       "18  d3df1dbd-666e-4f6e-9866-a9bf53660123   Pool       NaN  \n",
       "\n",
       "[5 rows x 23 columns]"
      ]
     },
     "execution_count": 11,
     "metadata": {},
     "output_type": "execute_result"
    }
   ],
   "source": [
    "df2.tail()"
   ]
  },
  {
   "cell_type": "markdown",
   "metadata": {},
   "source": [
    "## Merge the two Dataframes together (df1, df2). I decided to use the .concat method because the shapes of the two Dataframes are not same so it would be joined as outer join. This way, i will not loose any data."
   ]
  },
  {
   "cell_type": "code",
   "execution_count": 12,
   "metadata": {
    "scrolled": false
   },
   "outputs": [
    {
     "name": "stderr",
     "output_type": "stream",
     "text": [
      "/anaconda3/lib/python3.6/site-packages/ipykernel_launcher.py:1: FutureWarning: Sorting because non-concatenation axis is not aligned. A future version\n",
      "of pandas will change to not sort by default.\n",
      "\n",
      "To accept the future behavior, pass 'sort=False'.\n",
      "\n",
      "To retain the current behavior and silence the warning, pass 'sort=True'.\n",
      "\n",
      "  \"\"\"Entry point for launching an IPython kernel.\n"
     ]
    }
   ],
   "source": [
    "df = pd.concat([df1, df2], axis=0)"
   ]
  },
  {
   "cell_type": "code",
   "execution_count": 13,
   "metadata": {},
   "outputs": [],
   "source": [
    "df.reset_index(inplace=True)"
   ]
  },
  {
   "cell_type": "code",
   "execution_count": 14,
   "metadata": {},
   "outputs": [
    {
     "data": {
      "text/html": [
       "<div>\n",
       "<style scoped>\n",
       "    .dataframe tbody tr th:only-of-type {\n",
       "        vertical-align: middle;\n",
       "    }\n",
       "\n",
       "    .dataframe tbody tr th {\n",
       "        vertical-align: top;\n",
       "    }\n",
       "\n",
       "    .dataframe thead th {\n",
       "        text-align: right;\n",
       "    }\n",
       "</style>\n",
       "<table border=\"1\" class=\"dataframe\">\n",
       "  <thead>\n",
       "    <tr style=\"text-align: right;\">\n",
       "      <th></th>\n",
       "      <th>index</th>\n",
       "      <th>Additional Pickups</th>\n",
       "      <th>Base Fare</th>\n",
       "      <th>Black Car Fund</th>\n",
       "      <th>Booking Fee</th>\n",
       "      <th>Boost</th>\n",
       "      <th>Cancellation</th>\n",
       "      <th>Consecutive Trips Promotion</th>\n",
       "      <th>Date/Time</th>\n",
       "      <th>Distance</th>\n",
       "      <th>...</th>\n",
       "      <th>Surge</th>\n",
       "      <th>Time</th>\n",
       "      <th>Tip</th>\n",
       "      <th>Toll</th>\n",
       "      <th>Total</th>\n",
       "      <th>Trip ID</th>\n",
       "      <th>Type</th>\n",
       "      <th>Uber Fee</th>\n",
       "      <th>Vehicle Related Fee</th>\n",
       "      <th>Wait Time</th>\n",
       "    </tr>\n",
       "  </thead>\n",
       "  <tbody>\n",
       "    <tr>\n",
       "      <th>0</th>\n",
       "      <td>0</td>\n",
       "      <td>NaN</td>\n",
       "      <td>NaN</td>\n",
       "      <td>-$0.35</td>\n",
       "      <td>NaN</td>\n",
       "      <td>NaN</td>\n",
       "      <td>NaN</td>\n",
       "      <td>NaN</td>\n",
       "      <td>Saturday, December 17, 2016 6:51 PM</td>\n",
       "      <td>NaN</td>\n",
       "      <td>...</td>\n",
       "      <td>$3.40</td>\n",
       "      <td>NaN</td>\n",
       "      <td>NaN</td>\n",
       "      <td>NaN</td>\n",
       "      <td>$9.45</td>\n",
       "      <td>0eb8db4a-fabd-4f0d-a8ab-aca4acc2228b</td>\n",
       "      <td>uberX</td>\n",
       "      <td>-$3.68</td>\n",
       "      <td>NaN</td>\n",
       "      <td>NaN</td>\n",
       "    </tr>\n",
       "    <tr>\n",
       "      <th>1</th>\n",
       "      <td>1</td>\n",
       "      <td>NaN</td>\n",
       "      <td>NaN</td>\n",
       "      <td>NaN</td>\n",
       "      <td>NaN</td>\n",
       "      <td>NaN</td>\n",
       "      <td>NaN</td>\n",
       "      <td>NaN</td>\n",
       "      <td>Saturday, December 17, 2016 3:33 PM</td>\n",
       "      <td>NaN</td>\n",
       "      <td>...</td>\n",
       "      <td>NaN</td>\n",
       "      <td>NaN</td>\n",
       "      <td>NaN</td>\n",
       "      <td>NaN</td>\n",
       "      <td>$13.20</td>\n",
       "      <td>d9057c90-7741-4c02-b6f1-9ce3f90f9bfe</td>\n",
       "      <td>uber X</td>\n",
       "      <td>-$4.40</td>\n",
       "      <td>NaN</td>\n",
       "      <td>NaN</td>\n",
       "    </tr>\n",
       "    <tr>\n",
       "      <th>2</th>\n",
       "      <td>2</td>\n",
       "      <td>NaN</td>\n",
       "      <td>NaN</td>\n",
       "      <td>-$0.55</td>\n",
       "      <td>NaN</td>\n",
       "      <td>NaN</td>\n",
       "      <td>NaN</td>\n",
       "      <td>NaN</td>\n",
       "      <td>Friday, December 16, 2016 3:38 PM</td>\n",
       "      <td>NaN</td>\n",
       "      <td>...</td>\n",
       "      <td>NaN</td>\n",
       "      <td>NaN</td>\n",
       "      <td>NaN</td>\n",
       "      <td>NaN</td>\n",
       "      <td>$17.82</td>\n",
       "      <td>a393b2d8-c610-4ad1-9878-1c0403485093</td>\n",
       "      <td>uberX</td>\n",
       "      <td>-$6.67</td>\n",
       "      <td>NaN</td>\n",
       "      <td>$0.84</td>\n",
       "    </tr>\n",
       "    <tr>\n",
       "      <th>3</th>\n",
       "      <td>3</td>\n",
       "      <td>NaN</td>\n",
       "      <td>NaN</td>\n",
       "      <td>-$0.57</td>\n",
       "      <td>NaN</td>\n",
       "      <td>NaN</td>\n",
       "      <td>NaN</td>\n",
       "      <td>NaN</td>\n",
       "      <td>Friday, December 16, 2016 7:40 PM</td>\n",
       "      <td>NaN</td>\n",
       "      <td>...</td>\n",
       "      <td>$10.12</td>\n",
       "      <td>NaN</td>\n",
       "      <td>NaN</td>\n",
       "      <td>NaN</td>\n",
       "      <td>$17.65</td>\n",
       "      <td>992f6e4f-51f6-4858-ac16-65e3fe22bbae</td>\n",
       "      <td>uberX</td>\n",
       "      <td>-$6.75</td>\n",
       "      <td>NaN</td>\n",
       "      <td>NaN</td>\n",
       "    </tr>\n",
       "    <tr>\n",
       "      <th>4</th>\n",
       "      <td>4</td>\n",
       "      <td>NaN</td>\n",
       "      <td>NaN</td>\n",
       "      <td>-$0.17</td>\n",
       "      <td>NaN</td>\n",
       "      <td>NaN</td>\n",
       "      <td>NaN</td>\n",
       "      <td>NaN</td>\n",
       "      <td>Friday, December 16, 2016 9:53 AM</td>\n",
       "      <td>NaN</td>\n",
       "      <td>...</td>\n",
       "      <td>NaN</td>\n",
       "      <td>NaN</td>\n",
       "      <td>NaN</td>\n",
       "      <td>NaN</td>\n",
       "      <td>$5.40</td>\n",
       "      <td>25263499-9722-4850-a8bd-40316b5d97a9</td>\n",
       "      <td>uberX</td>\n",
       "      <td>-$2.05</td>\n",
       "      <td>NaN</td>\n",
       "      <td>$0.21</td>\n",
       "    </tr>\n",
       "  </tbody>\n",
       "</table>\n",
       "<p>5 rows × 30 columns</p>\n",
       "</div>"
      ],
      "text/plain": [
       "   index Additional Pickups Base Fare Black Car Fund Booking Fee Boost  \\\n",
       "0      0                NaN       NaN         -$0.35         NaN   NaN   \n",
       "1      1                NaN       NaN            NaN         NaN   NaN   \n",
       "2      2                NaN       NaN         -$0.55         NaN   NaN   \n",
       "3      3                NaN       NaN         -$0.57         NaN   NaN   \n",
       "4      4                NaN       NaN         -$0.17         NaN   NaN   \n",
       "\n",
       "  Cancellation  Consecutive Trips Promotion  \\\n",
       "0          NaN                          NaN   \n",
       "1          NaN                          NaN   \n",
       "2          NaN                          NaN   \n",
       "3          NaN                          NaN   \n",
       "4          NaN                          NaN   \n",
       "\n",
       "                             Date/Time Distance    ...      Surge Time  Tip  \\\n",
       "0  Saturday, December 17, 2016 6:51 PM      NaN    ...      $3.40  NaN  NaN   \n",
       "1  Saturday, December 17, 2016 3:33 PM      NaN    ...        NaN  NaN  NaN   \n",
       "2    Friday, December 16, 2016 3:38 PM      NaN    ...        NaN  NaN  NaN   \n",
       "3    Friday, December 16, 2016 7:40 PM      NaN    ...     $10.12  NaN  NaN   \n",
       "4    Friday, December 16, 2016 9:53 AM      NaN    ...        NaN  NaN  NaN   \n",
       "\n",
       "   Toll   Total                               Trip ID    Type Uber Fee  \\\n",
       "0   NaN   $9.45  0eb8db4a-fabd-4f0d-a8ab-aca4acc2228b   uberX   -$3.68   \n",
       "1   NaN  $13.20  d9057c90-7741-4c02-b6f1-9ce3f90f9bfe  uber X   -$4.40   \n",
       "2   NaN  $17.82  a393b2d8-c610-4ad1-9878-1c0403485093   uberX   -$6.67   \n",
       "3   NaN  $17.65  992f6e4f-51f6-4858-ac16-65e3fe22bbae   uberX   -$6.75   \n",
       "4   NaN   $5.40  25263499-9722-4850-a8bd-40316b5d97a9   uberX   -$2.05   \n",
       "\n",
       "   Vehicle Related Fee Wait Time  \n",
       "0                  NaN       NaN  \n",
       "1                  NaN       NaN  \n",
       "2                  NaN     $0.84  \n",
       "3                  NaN       NaN  \n",
       "4                  NaN     $0.21  \n",
       "\n",
       "[5 rows x 30 columns]"
      ]
     },
     "execution_count": 14,
     "metadata": {},
     "output_type": "execute_result"
    }
   ],
   "source": [
    "df.head()"
   ]
  },
  {
   "cell_type": "code",
   "execution_count": 15,
   "metadata": {},
   "outputs": [],
   "source": [
    "df.set_index(\"index\", inplace=True)"
   ]
  },
  {
   "cell_type": "code",
   "execution_count": 16,
   "metadata": {
    "scrolled": true
   },
   "outputs": [
    {
     "name": "stdout",
     "output_type": "stream",
     "text": [
      "<class 'pandas.core.frame.DataFrame'>\n",
      "Int64Index: 2215 entries, 0 to 18\n",
      "Data columns (total 29 columns):\n",
      "Additional Pickups             362 non-null object\n",
      "Base Fare                      1068 non-null object\n",
      "Black Car Fund                 633 non-null object\n",
      "Booking Fee                    49 non-null object\n",
      "Boost                          14 non-null object\n",
      "Cancellation                   90 non-null object\n",
      "Consecutive Trips Promotion    0 non-null float64\n",
      "Date/Time                      2215 non-null object\n",
      "Distance                       1448 non-null object\n",
      "Driver Name                    2215 non-null object\n",
      "Email                          0 non-null object\n",
      "Fare                           663 non-null object\n",
      "Instant Pay Fees               0 non-null float64\n",
      "Long Pickup Fee                23 non-null object\n",
      "Min Fare Supplement            183 non-null object\n",
      "Other Promotions               0 non-null object\n",
      "Phone Number                   0 non-null object\n",
      "Quest Promotion                0 non-null float64\n",
      "Sales Tax                      622 non-null object\n",
      "Surge                          213 non-null object\n",
      "Time                           1448 non-null object\n",
      "Tip                            133 non-null object\n",
      "Toll                           190 non-null object\n",
      "Total                          2215 non-null object\n",
      "Trip ID                        2215 non-null object\n",
      "Type                           2215 non-null object\n",
      "Uber Fee                       686 non-null object\n",
      "Vehicle Related Fee            0 non-null float64\n",
      "Wait Time                      261 non-null object\n",
      "dtypes: float64(4), object(25)\n",
      "memory usage: 519.1+ KB\n"
     ]
    }
   ],
   "source": [
    "df.info()"
   ]
  },
  {
   "cell_type": "code",
   "execution_count": 17,
   "metadata": {},
   "outputs": [
    {
     "data": {
      "text/plain": [
       "(2215, 29)"
      ]
     },
     "execution_count": 17,
     "metadata": {},
     "output_type": "execute_result"
    }
   ],
   "source": [
    "df.shape"
   ]
  },
  {
   "cell_type": "code",
   "execution_count": 18,
   "metadata": {},
   "outputs": [
    {
     "data": {
      "text/plain": [
       "Additional Pickups              object\n",
       "Base Fare                       object\n",
       "Black Car Fund                  object\n",
       "Booking Fee                     object\n",
       "Boost                           object\n",
       "Cancellation                    object\n",
       "Consecutive Trips Promotion    float64\n",
       "Date/Time                       object\n",
       "Distance                        object\n",
       "Driver Name                     object\n",
       "Email                           object\n",
       "Fare                            object\n",
       "Instant Pay Fees               float64\n",
       "Long Pickup Fee                 object\n",
       "Min Fare Supplement             object\n",
       "Other Promotions                object\n",
       "Phone Number                    object\n",
       "Quest Promotion                float64\n",
       "Sales Tax                       object\n",
       "Surge                           object\n",
       "Time                            object\n",
       "Tip                             object\n",
       "Toll                            object\n",
       "Total                           object\n",
       "Trip ID                         object\n",
       "Type                            object\n",
       "Uber Fee                        object\n",
       "Vehicle Related Fee            float64\n",
       "Wait Time                       object\n",
       "dtype: object"
      ]
     },
     "execution_count": 18,
     "metadata": {},
     "output_type": "execute_result"
    }
   ],
   "source": [
    "df.dtypes"
   ]
  },
  {
   "cell_type": "code",
   "execution_count": 19,
   "metadata": {},
   "outputs": [
    {
     "data": {
      "text/plain": [
       "Index(['Additional Pickups', 'Base Fare', 'Black Car Fund', 'Booking Fee',\n",
       "       'Boost', 'Cancellation', 'Consecutive Trips Promotion', 'Date/Time',\n",
       "       'Distance', 'Driver Name', 'Email', 'Fare', 'Instant Pay Fees',\n",
       "       'Long Pickup Fee', 'Min Fare Supplement', 'Other Promotions',\n",
       "       'Phone Number', 'Quest Promotion', 'Sales Tax', 'Surge', 'Time', 'Tip',\n",
       "       'Toll', 'Total', 'Trip ID', 'Type', 'Uber Fee', 'Vehicle Related Fee',\n",
       "       'Wait Time'],\n",
       "      dtype='object')"
      ]
     },
     "execution_count": 19,
     "metadata": {},
     "output_type": "execute_result"
    }
   ],
   "source": [
    "df.columns"
   ]
  },
  {
   "cell_type": "code",
   "execution_count": 20,
   "metadata": {},
   "outputs": [
    {
     "data": {
      "text/plain": [
       "Additional Pickups             1853\n",
       "Base Fare                      1147\n",
       "Black Car Fund                 1582\n",
       "Booking Fee                    2166\n",
       "Boost                          2201\n",
       "Cancellation                   2125\n",
       "Consecutive Trips Promotion    2215\n",
       "Date/Time                         0\n",
       "Distance                        767\n",
       "Driver Name                       0\n",
       "Email                          2215\n",
       "Fare                           1552\n",
       "Instant Pay Fees               2215\n",
       "Long Pickup Fee                2192\n",
       "Min Fare Supplement            2032\n",
       "Other Promotions               2215\n",
       "Phone Number                   2215\n",
       "Quest Promotion                2215\n",
       "Sales Tax                      1593\n",
       "Surge                          2002\n",
       "Time                            767\n",
       "Tip                            2082\n",
       "Toll                           2025\n",
       "Total                             0\n",
       "Trip ID                           0\n",
       "Type                              0\n",
       "Uber Fee                       1529\n",
       "Vehicle Related Fee            2215\n",
       "Wait Time                      1954\n",
       "dtype: int64"
      ]
     },
     "execution_count": 20,
     "metadata": {},
     "output_type": "execute_result"
    }
   ],
   "source": [
    "df.isnull().sum()"
   ]
  },
  {
   "cell_type": "markdown",
   "metadata": {},
   "source": [
    "## After checking to see the null values, i realised there are a lot of data here that is totally useless. so i'll drop columns that has all its data as NaNs, and some other ones that are useless for the purpose of this work."
   ]
  },
  {
   "cell_type": "code",
   "execution_count": 21,
   "metadata": {},
   "outputs": [],
   "source": [
    "df.drop([\"Booking Fee\", \"Boost\", \"Cancellation\", \"Consecutive Trips Promotion\",\n",
    "         \"Email\", \"Instant Pay Fees\", \"Long Pickup Fee\", \"Min Fare Supplement\",\n",
    "         \"Other Promotions\", \"Phone Number\", \"Quest Promotion\", \"Toll\",\n",
    "         \"Wait Time\", \"Vehicle Related Fee\", \"Driver Name\", \"Tip\", \"Trip ID\"\n",
    "         ], axis=1, inplace=True)"
   ]
  },
  {
   "cell_type": "code",
   "execution_count": 22,
   "metadata": {},
   "outputs": [
    {
     "data": {
      "text/plain": [
       "(2215, 12)"
      ]
     },
     "execution_count": 22,
     "metadata": {},
     "output_type": "execute_result"
    }
   ],
   "source": [
    "df.shape"
   ]
  },
  {
   "cell_type": "code",
   "execution_count": 23,
   "metadata": {},
   "outputs": [
    {
     "data": {
      "text/html": [
       "<div>\n",
       "<style scoped>\n",
       "    .dataframe tbody tr th:only-of-type {\n",
       "        vertical-align: middle;\n",
       "    }\n",
       "\n",
       "    .dataframe tbody tr th {\n",
       "        vertical-align: top;\n",
       "    }\n",
       "\n",
       "    .dataframe thead th {\n",
       "        text-align: right;\n",
       "    }\n",
       "</style>\n",
       "<table border=\"1\" class=\"dataframe\">\n",
       "  <thead>\n",
       "    <tr style=\"text-align: right;\">\n",
       "      <th></th>\n",
       "      <th>Additional Pickups</th>\n",
       "      <th>Base Fare</th>\n",
       "      <th>Black Car Fund</th>\n",
       "      <th>Date/Time</th>\n",
       "      <th>Distance</th>\n",
       "      <th>Fare</th>\n",
       "      <th>Sales Tax</th>\n",
       "      <th>Surge</th>\n",
       "      <th>Time</th>\n",
       "      <th>Total</th>\n",
       "      <th>Type</th>\n",
       "      <th>Uber Fee</th>\n",
       "    </tr>\n",
       "    <tr>\n",
       "      <th>index</th>\n",
       "      <th></th>\n",
       "      <th></th>\n",
       "      <th></th>\n",
       "      <th></th>\n",
       "      <th></th>\n",
       "      <th></th>\n",
       "      <th></th>\n",
       "      <th></th>\n",
       "      <th></th>\n",
       "      <th></th>\n",
       "      <th></th>\n",
       "      <th></th>\n",
       "    </tr>\n",
       "  </thead>\n",
       "  <tbody>\n",
       "    <tr>\n",
       "      <th>0</th>\n",
       "      <td>NaN</td>\n",
       "      <td>NaN</td>\n",
       "      <td>-$0.35</td>\n",
       "      <td>Saturday, December 17, 2016 6:51 PM</td>\n",
       "      <td>NaN</td>\n",
       "      <td>$11.32</td>\n",
       "      <td>-$1.24</td>\n",
       "      <td>$3.40</td>\n",
       "      <td>NaN</td>\n",
       "      <td>$9.45</td>\n",
       "      <td>uberX</td>\n",
       "      <td>-$3.68</td>\n",
       "    </tr>\n",
       "    <tr>\n",
       "      <th>1</th>\n",
       "      <td>NaN</td>\n",
       "      <td>NaN</td>\n",
       "      <td>NaN</td>\n",
       "      <td>Saturday, December 17, 2016 3:33 PM</td>\n",
       "      <td>NaN</td>\n",
       "      <td>$17.60</td>\n",
       "      <td>NaN</td>\n",
       "      <td>NaN</td>\n",
       "      <td>NaN</td>\n",
       "      <td>$13.20</td>\n",
       "      <td>uber X</td>\n",
       "      <td>-$4.40</td>\n",
       "    </tr>\n",
       "    <tr>\n",
       "      <th>2</th>\n",
       "      <td>NaN</td>\n",
       "      <td>NaN</td>\n",
       "      <td>-$0.55</td>\n",
       "      <td>Friday, December 16, 2016 3:38 PM</td>\n",
       "      <td>NaN</td>\n",
       "      <td>$25.83</td>\n",
       "      <td>-$1.63</td>\n",
       "      <td>NaN</td>\n",
       "      <td>NaN</td>\n",
       "      <td>$17.82</td>\n",
       "      <td>uberX</td>\n",
       "      <td>-$6.67</td>\n",
       "    </tr>\n",
       "    <tr>\n",
       "      <th>3</th>\n",
       "      <td>NaN</td>\n",
       "      <td>NaN</td>\n",
       "      <td>-$0.57</td>\n",
       "      <td>Friday, December 16, 2016 7:40 PM</td>\n",
       "      <td>NaN</td>\n",
       "      <td>$16.86</td>\n",
       "      <td>-$2.01</td>\n",
       "      <td>$10.12</td>\n",
       "      <td>NaN</td>\n",
       "      <td>$17.65</td>\n",
       "      <td>uberX</td>\n",
       "      <td>-$6.75</td>\n",
       "    </tr>\n",
       "    <tr>\n",
       "      <th>4</th>\n",
       "      <td>NaN</td>\n",
       "      <td>NaN</td>\n",
       "      <td>-$0.17</td>\n",
       "      <td>Friday, December 16, 2016 9:53 AM</td>\n",
       "      <td>NaN</td>\n",
       "      <td>$8.00</td>\n",
       "      <td>-$0.59</td>\n",
       "      <td>NaN</td>\n",
       "      <td>NaN</td>\n",
       "      <td>$5.40</td>\n",
       "      <td>uberX</td>\n",
       "      <td>-$2.05</td>\n",
       "    </tr>\n",
       "  </tbody>\n",
       "</table>\n",
       "</div>"
      ],
      "text/plain": [
       "      Additional Pickups Base Fare Black Car Fund  \\\n",
       "index                                               \n",
       "0                    NaN       NaN         -$0.35   \n",
       "1                    NaN       NaN            NaN   \n",
       "2                    NaN       NaN         -$0.55   \n",
       "3                    NaN       NaN         -$0.57   \n",
       "4                    NaN       NaN         -$0.17   \n",
       "\n",
       "                                 Date/Time Distance    Fare Sales Tax   Surge  \\\n",
       "index                                                                           \n",
       "0      Saturday, December 17, 2016 6:51 PM      NaN  $11.32    -$1.24   $3.40   \n",
       "1      Saturday, December 17, 2016 3:33 PM      NaN  $17.60       NaN     NaN   \n",
       "2        Friday, December 16, 2016 3:38 PM      NaN  $25.83    -$1.63     NaN   \n",
       "3        Friday, December 16, 2016 7:40 PM      NaN  $16.86    -$2.01  $10.12   \n",
       "4        Friday, December 16, 2016 9:53 AM      NaN   $8.00    -$0.59     NaN   \n",
       "\n",
       "      Time   Total    Type Uber Fee  \n",
       "index                                \n",
       "0      NaN   $9.45   uberX   -$3.68  \n",
       "1      NaN  $13.20  uber X   -$4.40  \n",
       "2      NaN  $17.82   uberX   -$6.67  \n",
       "3      NaN  $17.65   uberX   -$6.75  \n",
       "4      NaN   $5.40   uberX   -$2.05  "
      ]
     },
     "execution_count": 23,
     "metadata": {},
     "output_type": "execute_result"
    }
   ],
   "source": [
    "df.head()"
   ]
  },
  {
   "cell_type": "code",
   "execution_count": 24,
   "metadata": {},
   "outputs": [
    {
     "data": {
      "text/html": [
       "<div>\n",
       "<style scoped>\n",
       "    .dataframe tbody tr th:only-of-type {\n",
       "        vertical-align: middle;\n",
       "    }\n",
       "\n",
       "    .dataframe tbody tr th {\n",
       "        vertical-align: top;\n",
       "    }\n",
       "\n",
       "    .dataframe thead th {\n",
       "        text-align: right;\n",
       "    }\n",
       "</style>\n",
       "<table border=\"1\" class=\"dataframe\">\n",
       "  <thead>\n",
       "    <tr style=\"text-align: right;\">\n",
       "      <th></th>\n",
       "      <th>Additional Pickups</th>\n",
       "      <th>Base Fare</th>\n",
       "      <th>Black Car Fund</th>\n",
       "      <th>Date/Time</th>\n",
       "      <th>Distance</th>\n",
       "      <th>Fare</th>\n",
       "      <th>Sales Tax</th>\n",
       "      <th>Surge</th>\n",
       "      <th>Time</th>\n",
       "      <th>Total</th>\n",
       "      <th>Type</th>\n",
       "      <th>Uber Fee</th>\n",
       "    </tr>\n",
       "    <tr>\n",
       "      <th>index</th>\n",
       "      <th></th>\n",
       "      <th></th>\n",
       "      <th></th>\n",
       "      <th></th>\n",
       "      <th></th>\n",
       "      <th></th>\n",
       "      <th></th>\n",
       "      <th></th>\n",
       "      <th></th>\n",
       "      <th></th>\n",
       "      <th></th>\n",
       "      <th></th>\n",
       "    </tr>\n",
       "  </thead>\n",
       "  <tbody>\n",
       "    <tr>\n",
       "      <th>14</th>\n",
       "      <td>$0.75</td>\n",
       "      <td>NaN</td>\n",
       "      <td>NaN</td>\n",
       "      <td>Saturday, December 22, 2018 7:00 PM</td>\n",
       "      <td>$2.01</td>\n",
       "      <td>NaN</td>\n",
       "      <td>NaN</td>\n",
       "      <td>NaN</td>\n",
       "      <td>$1.42</td>\n",
       "      <td>$4.18</td>\n",
       "      <td>Pool</td>\n",
       "      <td>NaN</td>\n",
       "    </tr>\n",
       "    <tr>\n",
       "      <th>15</th>\n",
       "      <td>$0.75</td>\n",
       "      <td>NaN</td>\n",
       "      <td>NaN</td>\n",
       "      <td>Saturday, December 22, 2018 7:03 PM</td>\n",
       "      <td>$10.21</td>\n",
       "      <td>NaN</td>\n",
       "      <td>NaN</td>\n",
       "      <td>NaN</td>\n",
       "      <td>$8.50</td>\n",
       "      <td>$22.34</td>\n",
       "      <td>Pool</td>\n",
       "      <td>NaN</td>\n",
       "    </tr>\n",
       "    <tr>\n",
       "      <th>16</th>\n",
       "      <td>NaN</td>\n",
       "      <td>$1.72</td>\n",
       "      <td>NaN</td>\n",
       "      <td>Saturday, December 22, 2018 11:47 PM</td>\n",
       "      <td>$5.82</td>\n",
       "      <td>NaN</td>\n",
       "      <td>NaN</td>\n",
       "      <td>NaN</td>\n",
       "      <td>$5.95</td>\n",
       "      <td>$13.49</td>\n",
       "      <td>UberX</td>\n",
       "      <td>NaN</td>\n",
       "    </tr>\n",
       "    <tr>\n",
       "      <th>17</th>\n",
       "      <td>NaN</td>\n",
       "      <td>$1.72</td>\n",
       "      <td>NaN</td>\n",
       "      <td>Saturday, December 22, 2018 7:01 PM</td>\n",
       "      <td>$3.77</td>\n",
       "      <td>NaN</td>\n",
       "      <td>NaN</td>\n",
       "      <td>NaN</td>\n",
       "      <td>$3.11</td>\n",
       "      <td>$8.60</td>\n",
       "      <td>Pool</td>\n",
       "      <td>NaN</td>\n",
       "    </tr>\n",
       "    <tr>\n",
       "      <th>18</th>\n",
       "      <td>$0.75</td>\n",
       "      <td>NaN</td>\n",
       "      <td>NaN</td>\n",
       "      <td>Sunday, December 23, 2018 1:09 AM</td>\n",
       "      <td>$0.53</td>\n",
       "      <td>NaN</td>\n",
       "      <td>NaN</td>\n",
       "      <td>NaN</td>\n",
       "      <td>$0.64</td>\n",
       "      <td>$1.92</td>\n",
       "      <td>Pool</td>\n",
       "      <td>NaN</td>\n",
       "    </tr>\n",
       "  </tbody>\n",
       "</table>\n",
       "</div>"
      ],
      "text/plain": [
       "      Additional Pickups Base Fare Black Car Fund  \\\n",
       "index                                               \n",
       "14                 $0.75       NaN            NaN   \n",
       "15                 $0.75       NaN            NaN   \n",
       "16                   NaN     $1.72            NaN   \n",
       "17                   NaN     $1.72            NaN   \n",
       "18                 $0.75       NaN            NaN   \n",
       "\n",
       "                                  Date/Time Distance Fare Sales Tax Surge  \\\n",
       "index                                                                       \n",
       "14      Saturday, December 22, 2018 7:00 PM    $2.01  NaN       NaN   NaN   \n",
       "15      Saturday, December 22, 2018 7:03 PM   $10.21  NaN       NaN   NaN   \n",
       "16     Saturday, December 22, 2018 11:47 PM    $5.82  NaN       NaN   NaN   \n",
       "17      Saturday, December 22, 2018 7:01 PM    $3.77  NaN       NaN   NaN   \n",
       "18        Sunday, December 23, 2018 1:09 AM    $0.53  NaN       NaN   NaN   \n",
       "\n",
       "        Time   Total   Type Uber Fee  \n",
       "index                                 \n",
       "14     $1.42   $4.18   Pool      NaN  \n",
       "15     $8.50  $22.34   Pool      NaN  \n",
       "16     $5.95  $13.49  UberX      NaN  \n",
       "17     $3.11   $8.60   Pool      NaN  \n",
       "18     $0.64   $1.92   Pool      NaN  "
      ]
     },
     "execution_count": 24,
     "metadata": {},
     "output_type": "execute_result"
    }
   ],
   "source": [
    "df.tail()"
   ]
  },
  {
   "cell_type": "code",
   "execution_count": 25,
   "metadata": {},
   "outputs": [
    {
     "data": {
      "text/plain": [
       "Additional Pickups    1853\n",
       "Base Fare             1147\n",
       "Black Car Fund        1582\n",
       "Date/Time                0\n",
       "Distance               767\n",
       "Fare                  1552\n",
       "Sales Tax             1593\n",
       "Surge                 2002\n",
       "Time                   767\n",
       "Total                    0\n",
       "Type                     0\n",
       "Uber Fee              1529\n",
       "dtype: int64"
      ]
     },
     "execution_count": 25,
     "metadata": {},
     "output_type": "execute_result"
    }
   ],
   "source": [
    "df.isnull().sum()"
   ]
  },
  {
   "cell_type": "code",
   "execution_count": 26,
   "metadata": {},
   "outputs": [
    {
     "data": {
      "text/plain": [
       "(2215, 12)"
      ]
     },
     "execution_count": 26,
     "metadata": {},
     "output_type": "execute_result"
    }
   ],
   "source": [
    "df.shape"
   ]
  },
  {
   "cell_type": "code",
   "execution_count": 27,
   "metadata": {},
   "outputs": [],
   "source": [
    "df[\"Date/Time\"] = pd.to_datetime(df[\"Date/Time\"])"
   ]
  },
  {
   "cell_type": "code",
   "execution_count": 28,
   "metadata": {},
   "outputs": [],
   "source": [
    "df['DATE_formatted'] = [x.round('H') for x in df['Date/Time']]"
   ]
  },
  {
   "cell_type": "code",
   "execution_count": 29,
   "metadata": {},
   "outputs": [
    {
     "data": {
      "text/html": [
       "<div>\n",
       "<style scoped>\n",
       "    .dataframe tbody tr th:only-of-type {\n",
       "        vertical-align: middle;\n",
       "    }\n",
       "\n",
       "    .dataframe tbody tr th {\n",
       "        vertical-align: top;\n",
       "    }\n",
       "\n",
       "    .dataframe thead th {\n",
       "        text-align: right;\n",
       "    }\n",
       "</style>\n",
       "<table border=\"1\" class=\"dataframe\">\n",
       "  <thead>\n",
       "    <tr style=\"text-align: right;\">\n",
       "      <th></th>\n",
       "      <th>Additional Pickups</th>\n",
       "      <th>Base Fare</th>\n",
       "      <th>Black Car Fund</th>\n",
       "      <th>Date/Time</th>\n",
       "      <th>Distance</th>\n",
       "      <th>Fare</th>\n",
       "      <th>Sales Tax</th>\n",
       "      <th>Surge</th>\n",
       "      <th>Time</th>\n",
       "      <th>Total</th>\n",
       "      <th>Type</th>\n",
       "      <th>Uber Fee</th>\n",
       "      <th>DATE_formatted</th>\n",
       "    </tr>\n",
       "    <tr>\n",
       "      <th>index</th>\n",
       "      <th></th>\n",
       "      <th></th>\n",
       "      <th></th>\n",
       "      <th></th>\n",
       "      <th></th>\n",
       "      <th></th>\n",
       "      <th></th>\n",
       "      <th></th>\n",
       "      <th></th>\n",
       "      <th></th>\n",
       "      <th></th>\n",
       "      <th></th>\n",
       "      <th></th>\n",
       "    </tr>\n",
       "  </thead>\n",
       "  <tbody>\n",
       "    <tr>\n",
       "      <th>0</th>\n",
       "      <td>NaN</td>\n",
       "      <td>NaN</td>\n",
       "      <td>-$0.35</td>\n",
       "      <td>2016-12-17 18:51:00</td>\n",
       "      <td>NaN</td>\n",
       "      <td>$11.32</td>\n",
       "      <td>-$1.24</td>\n",
       "      <td>$3.40</td>\n",
       "      <td>NaN</td>\n",
       "      <td>$9.45</td>\n",
       "      <td>uberX</td>\n",
       "      <td>-$3.68</td>\n",
       "      <td>2016-12-17 19:00:00</td>\n",
       "    </tr>\n",
       "    <tr>\n",
       "      <th>1</th>\n",
       "      <td>NaN</td>\n",
       "      <td>NaN</td>\n",
       "      <td>NaN</td>\n",
       "      <td>2016-12-17 15:33:00</td>\n",
       "      <td>NaN</td>\n",
       "      <td>$17.60</td>\n",
       "      <td>NaN</td>\n",
       "      <td>NaN</td>\n",
       "      <td>NaN</td>\n",
       "      <td>$13.20</td>\n",
       "      <td>uber X</td>\n",
       "      <td>-$4.40</td>\n",
       "      <td>2016-12-17 16:00:00</td>\n",
       "    </tr>\n",
       "    <tr>\n",
       "      <th>2</th>\n",
       "      <td>NaN</td>\n",
       "      <td>NaN</td>\n",
       "      <td>-$0.55</td>\n",
       "      <td>2016-12-16 15:38:00</td>\n",
       "      <td>NaN</td>\n",
       "      <td>$25.83</td>\n",
       "      <td>-$1.63</td>\n",
       "      <td>NaN</td>\n",
       "      <td>NaN</td>\n",
       "      <td>$17.82</td>\n",
       "      <td>uberX</td>\n",
       "      <td>-$6.67</td>\n",
       "      <td>2016-12-16 16:00:00</td>\n",
       "    </tr>\n",
       "    <tr>\n",
       "      <th>3</th>\n",
       "      <td>NaN</td>\n",
       "      <td>NaN</td>\n",
       "      <td>-$0.57</td>\n",
       "      <td>2016-12-16 19:40:00</td>\n",
       "      <td>NaN</td>\n",
       "      <td>$16.86</td>\n",
       "      <td>-$2.01</td>\n",
       "      <td>$10.12</td>\n",
       "      <td>NaN</td>\n",
       "      <td>$17.65</td>\n",
       "      <td>uberX</td>\n",
       "      <td>-$6.75</td>\n",
       "      <td>2016-12-16 20:00:00</td>\n",
       "    </tr>\n",
       "    <tr>\n",
       "      <th>4</th>\n",
       "      <td>NaN</td>\n",
       "      <td>NaN</td>\n",
       "      <td>-$0.17</td>\n",
       "      <td>2016-12-16 09:53:00</td>\n",
       "      <td>NaN</td>\n",
       "      <td>$8.00</td>\n",
       "      <td>-$0.59</td>\n",
       "      <td>NaN</td>\n",
       "      <td>NaN</td>\n",
       "      <td>$5.40</td>\n",
       "      <td>uberX</td>\n",
       "      <td>-$2.05</td>\n",
       "      <td>2016-12-16 10:00:00</td>\n",
       "    </tr>\n",
       "  </tbody>\n",
       "</table>\n",
       "</div>"
      ],
      "text/plain": [
       "      Additional Pickups Base Fare Black Car Fund           Date/Time  \\\n",
       "index                                                                   \n",
       "0                    NaN       NaN         -$0.35 2016-12-17 18:51:00   \n",
       "1                    NaN       NaN            NaN 2016-12-17 15:33:00   \n",
       "2                    NaN       NaN         -$0.55 2016-12-16 15:38:00   \n",
       "3                    NaN       NaN         -$0.57 2016-12-16 19:40:00   \n",
       "4                    NaN       NaN         -$0.17 2016-12-16 09:53:00   \n",
       "\n",
       "      Distance    Fare Sales Tax   Surge Time   Total    Type Uber Fee  \\\n",
       "index                                                                    \n",
       "0          NaN  $11.32    -$1.24   $3.40  NaN   $9.45   uberX   -$3.68   \n",
       "1          NaN  $17.60       NaN     NaN  NaN  $13.20  uber X   -$4.40   \n",
       "2          NaN  $25.83    -$1.63     NaN  NaN  $17.82   uberX   -$6.67   \n",
       "3          NaN  $16.86    -$2.01  $10.12  NaN  $17.65   uberX   -$6.75   \n",
       "4          NaN   $8.00    -$0.59     NaN  NaN   $5.40   uberX   -$2.05   \n",
       "\n",
       "           DATE_formatted  \n",
       "index                      \n",
       "0     2016-12-17 19:00:00  \n",
       "1     2016-12-17 16:00:00  \n",
       "2     2016-12-16 16:00:00  \n",
       "3     2016-12-16 20:00:00  \n",
       "4     2016-12-16 10:00:00  "
      ]
     },
     "execution_count": 29,
     "metadata": {},
     "output_type": "execute_result"
    }
   ],
   "source": [
    "df.head()"
   ]
  },
  {
   "cell_type": "code",
   "execution_count": 30,
   "metadata": {},
   "outputs": [
    {
     "data": {
      "text/plain": [
       "(2215, 13)"
      ]
     },
     "execution_count": 30,
     "metadata": {},
     "output_type": "execute_result"
    }
   ],
   "source": [
    "df.shape"
   ]
  },
  {
   "cell_type": "code",
   "execution_count": 31,
   "metadata": {},
   "outputs": [
    {
     "data": {
      "text/plain": [
       "Index(['Additional Pickups', 'Base Fare', 'Black Car Fund', 'Date/Time',\n",
       "       'Distance', 'Fare', 'Sales Tax', 'Surge', 'Time', 'Total', 'Type',\n",
       "       'Uber Fee', 'DATE_formatted'],\n",
       "      dtype='object')"
      ]
     },
     "execution_count": 31,
     "metadata": {},
     "output_type": "execute_result"
    }
   ],
   "source": [
    "df.columns"
   ]
  },
  {
   "cell_type": "code",
   "execution_count": 32,
   "metadata": {},
   "outputs": [],
   "source": [
    "df[\"Additional Pickups\"] = df[\"Additional Pickups\"].str.replace(\"$\", \" \")\n",
    "df[\"Base Fare\"] = df[\"Base Fare\"].str.replace(\"$\", \"\")\n",
    "df[\"Black Car Fund\"] = df[\"Black Car Fund\"].str.replace(\"-\", \"\")\n",
    "df[\"Black Car Fund\"] = df[\"Black Car Fund\"].str.replace(\"$\", \"\")\n",
    "df[\"Distance\"] = df[\"Distance\"].str.replace(\"$\", \"\")\n",
    "df[\"Fare\"] = df[\"Fare\"].str.replace(\"$\", \"\")\n",
    "df[\"Sales Tax\"] = df[\"Sales Tax\"].str.replace(\"-\", \"\")\n",
    "df[\"Sales Tax\"] = df[\"Sales Tax\"].str.replace(\"$\", \"\")\n",
    "df[\"Surge\"] = df[\"Surge\"].str.replace(\"$\", \"\")\n",
    "df[\"Surge\"] = df[\"Surge\"].str.replace(\"*\", \"\")\n",
    "df[\"Time\"] = df[\"Time\"].str.replace(\"$\", \"\")\n",
    "df[\"Total\"] = df[\"Total\"].str.replace(\"$\", \"\")\n",
    "df[\"Uber Fee\"] = df[\"Uber Fee\"].str.replace(\"-\", \"\")\n",
    "df[\"Uber Fee\"] = df[\"Uber Fee\"].str.replace(\"$\", \"\")\n",
    "\n",
    "\n"
   ]
  },
  {
   "cell_type": "code",
   "execution_count": 33,
   "metadata": {},
   "outputs": [
    {
     "data": {
      "text/html": [
       "<div>\n",
       "<style scoped>\n",
       "    .dataframe tbody tr th:only-of-type {\n",
       "        vertical-align: middle;\n",
       "    }\n",
       "\n",
       "    .dataframe tbody tr th {\n",
       "        vertical-align: top;\n",
       "    }\n",
       "\n",
       "    .dataframe thead th {\n",
       "        text-align: right;\n",
       "    }\n",
       "</style>\n",
       "<table border=\"1\" class=\"dataframe\">\n",
       "  <thead>\n",
       "    <tr style=\"text-align: right;\">\n",
       "      <th></th>\n",
       "      <th>Additional Pickups</th>\n",
       "      <th>Base Fare</th>\n",
       "      <th>Black Car Fund</th>\n",
       "      <th>Date/Time</th>\n",
       "      <th>Distance</th>\n",
       "      <th>Fare</th>\n",
       "      <th>Sales Tax</th>\n",
       "      <th>Surge</th>\n",
       "      <th>Time</th>\n",
       "      <th>Total</th>\n",
       "      <th>Type</th>\n",
       "      <th>Uber Fee</th>\n",
       "      <th>DATE_formatted</th>\n",
       "    </tr>\n",
       "    <tr>\n",
       "      <th>index</th>\n",
       "      <th></th>\n",
       "      <th></th>\n",
       "      <th></th>\n",
       "      <th></th>\n",
       "      <th></th>\n",
       "      <th></th>\n",
       "      <th></th>\n",
       "      <th></th>\n",
       "      <th></th>\n",
       "      <th></th>\n",
       "      <th></th>\n",
       "      <th></th>\n",
       "      <th></th>\n",
       "    </tr>\n",
       "  </thead>\n",
       "  <tbody>\n",
       "    <tr>\n",
       "      <th>0</th>\n",
       "      <td>NaN</td>\n",
       "      <td>NaN</td>\n",
       "      <td>0.35</td>\n",
       "      <td>2016-12-17 18:51:00</td>\n",
       "      <td>NaN</td>\n",
       "      <td>11.32</td>\n",
       "      <td>1.24</td>\n",
       "      <td>3.40</td>\n",
       "      <td>NaN</td>\n",
       "      <td>9.45</td>\n",
       "      <td>uberX</td>\n",
       "      <td>3.68</td>\n",
       "      <td>2016-12-17 19:00:00</td>\n",
       "    </tr>\n",
       "    <tr>\n",
       "      <th>1</th>\n",
       "      <td>NaN</td>\n",
       "      <td>NaN</td>\n",
       "      <td>NaN</td>\n",
       "      <td>2016-12-17 15:33:00</td>\n",
       "      <td>NaN</td>\n",
       "      <td>17.60</td>\n",
       "      <td>NaN</td>\n",
       "      <td>NaN</td>\n",
       "      <td>NaN</td>\n",
       "      <td>13.20</td>\n",
       "      <td>uber X</td>\n",
       "      <td>4.40</td>\n",
       "      <td>2016-12-17 16:00:00</td>\n",
       "    </tr>\n",
       "    <tr>\n",
       "      <th>2</th>\n",
       "      <td>NaN</td>\n",
       "      <td>NaN</td>\n",
       "      <td>0.55</td>\n",
       "      <td>2016-12-16 15:38:00</td>\n",
       "      <td>NaN</td>\n",
       "      <td>25.83</td>\n",
       "      <td>1.63</td>\n",
       "      <td>NaN</td>\n",
       "      <td>NaN</td>\n",
       "      <td>17.82</td>\n",
       "      <td>uberX</td>\n",
       "      <td>6.67</td>\n",
       "      <td>2016-12-16 16:00:00</td>\n",
       "    </tr>\n",
       "    <tr>\n",
       "      <th>3</th>\n",
       "      <td>NaN</td>\n",
       "      <td>NaN</td>\n",
       "      <td>0.57</td>\n",
       "      <td>2016-12-16 19:40:00</td>\n",
       "      <td>NaN</td>\n",
       "      <td>16.86</td>\n",
       "      <td>2.01</td>\n",
       "      <td>10.12</td>\n",
       "      <td>NaN</td>\n",
       "      <td>17.65</td>\n",
       "      <td>uberX</td>\n",
       "      <td>6.75</td>\n",
       "      <td>2016-12-16 20:00:00</td>\n",
       "    </tr>\n",
       "    <tr>\n",
       "      <th>4</th>\n",
       "      <td>NaN</td>\n",
       "      <td>NaN</td>\n",
       "      <td>0.17</td>\n",
       "      <td>2016-12-16 09:53:00</td>\n",
       "      <td>NaN</td>\n",
       "      <td>8.00</td>\n",
       "      <td>0.59</td>\n",
       "      <td>NaN</td>\n",
       "      <td>NaN</td>\n",
       "      <td>5.40</td>\n",
       "      <td>uberX</td>\n",
       "      <td>2.05</td>\n",
       "      <td>2016-12-16 10:00:00</td>\n",
       "    </tr>\n",
       "  </tbody>\n",
       "</table>\n",
       "</div>"
      ],
      "text/plain": [
       "      Additional Pickups Base Fare Black Car Fund           Date/Time  \\\n",
       "index                                                                   \n",
       "0                    NaN       NaN           0.35 2016-12-17 18:51:00   \n",
       "1                    NaN       NaN            NaN 2016-12-17 15:33:00   \n",
       "2                    NaN       NaN           0.55 2016-12-16 15:38:00   \n",
       "3                    NaN       NaN           0.57 2016-12-16 19:40:00   \n",
       "4                    NaN       NaN           0.17 2016-12-16 09:53:00   \n",
       "\n",
       "      Distance   Fare Sales Tax  Surge Time  Total    Type Uber Fee  \\\n",
       "index                                                                 \n",
       "0          NaN  11.32      1.24   3.40  NaN   9.45   uberX     3.68   \n",
       "1          NaN  17.60       NaN    NaN  NaN  13.20  uber X     4.40   \n",
       "2          NaN  25.83      1.63    NaN  NaN  17.82   uberX     6.67   \n",
       "3          NaN  16.86      2.01  10.12  NaN  17.65   uberX     6.75   \n",
       "4          NaN   8.00      0.59    NaN  NaN   5.40   uberX     2.05   \n",
       "\n",
       "           DATE_formatted  \n",
       "index                      \n",
       "0     2016-12-17 19:00:00  \n",
       "1     2016-12-17 16:00:00  \n",
       "2     2016-12-16 16:00:00  \n",
       "3     2016-12-16 20:00:00  \n",
       "4     2016-12-16 10:00:00  "
      ]
     },
     "execution_count": 33,
     "metadata": {},
     "output_type": "execute_result"
    }
   ],
   "source": [
    "df.head()"
   ]
  },
  {
   "cell_type": "markdown",
   "metadata": {},
   "source": [
    "## Drop Base Fare, because its not needed in thos work as it only affect drivers that have the cars on rent. therefore its not a constant fee and it has nothing to do with the passenger"
   ]
  },
  {
   "cell_type": "code",
   "execution_count": 34,
   "metadata": {},
   "outputs": [],
   "source": [
    "df.drop([\"Base Fare\"], axis=1, inplace=True)"
   ]
  },
  {
   "cell_type": "code",
   "execution_count": 35,
   "metadata": {},
   "outputs": [
    {
     "data": {
      "text/plain": [
       "Index(['Additional Pickups', 'Black Car Fund', 'Date/Time', 'Distance', 'Fare',\n",
       "       'Sales Tax', 'Surge', 'Time', 'Total', 'Type', 'Uber Fee',\n",
       "       'DATE_formatted'],\n",
       "      dtype='object')"
      ]
     },
     "execution_count": 35,
     "metadata": {},
     "output_type": "execute_result"
    }
   ],
   "source": [
    "df.columns"
   ]
  },
  {
   "cell_type": "code",
   "execution_count": 36,
   "metadata": {},
   "outputs": [
    {
     "data": {
      "text/plain": [
       "(2215, 12)"
      ]
     },
     "execution_count": 36,
     "metadata": {},
     "output_type": "execute_result"
    }
   ],
   "source": [
    "df.shape"
   ]
  },
  {
   "cell_type": "code",
   "execution_count": 37,
   "metadata": {},
   "outputs": [
    {
     "data": {
      "text/html": [
       "<div>\n",
       "<style scoped>\n",
       "    .dataframe tbody tr th:only-of-type {\n",
       "        vertical-align: middle;\n",
       "    }\n",
       "\n",
       "    .dataframe tbody tr th {\n",
       "        vertical-align: top;\n",
       "    }\n",
       "\n",
       "    .dataframe thead th {\n",
       "        text-align: right;\n",
       "    }\n",
       "</style>\n",
       "<table border=\"1\" class=\"dataframe\">\n",
       "  <thead>\n",
       "    <tr style=\"text-align: right;\">\n",
       "      <th></th>\n",
       "      <th>Additional Pickups</th>\n",
       "      <th>Black Car Fund</th>\n",
       "      <th>Date/Time</th>\n",
       "      <th>Distance</th>\n",
       "      <th>Fare</th>\n",
       "      <th>Sales Tax</th>\n",
       "      <th>Surge</th>\n",
       "      <th>Time</th>\n",
       "      <th>Total</th>\n",
       "      <th>Type</th>\n",
       "      <th>Uber Fee</th>\n",
       "      <th>DATE_formatted</th>\n",
       "    </tr>\n",
       "    <tr>\n",
       "      <th>index</th>\n",
       "      <th></th>\n",
       "      <th></th>\n",
       "      <th></th>\n",
       "      <th></th>\n",
       "      <th></th>\n",
       "      <th></th>\n",
       "      <th></th>\n",
       "      <th></th>\n",
       "      <th></th>\n",
       "      <th></th>\n",
       "      <th></th>\n",
       "      <th></th>\n",
       "    </tr>\n",
       "  </thead>\n",
       "  <tbody>\n",
       "    <tr>\n",
       "      <th>0</th>\n",
       "      <td>NaN</td>\n",
       "      <td>0.35</td>\n",
       "      <td>2016-12-17 18:51:00</td>\n",
       "      <td>NaN</td>\n",
       "      <td>11.32</td>\n",
       "      <td>1.24</td>\n",
       "      <td>3.40</td>\n",
       "      <td>NaN</td>\n",
       "      <td>9.45</td>\n",
       "      <td>uberX</td>\n",
       "      <td>3.68</td>\n",
       "      <td>2016-12-17 19:00:00</td>\n",
       "    </tr>\n",
       "    <tr>\n",
       "      <th>1</th>\n",
       "      <td>NaN</td>\n",
       "      <td>NaN</td>\n",
       "      <td>2016-12-17 15:33:00</td>\n",
       "      <td>NaN</td>\n",
       "      <td>17.60</td>\n",
       "      <td>NaN</td>\n",
       "      <td>NaN</td>\n",
       "      <td>NaN</td>\n",
       "      <td>13.20</td>\n",
       "      <td>uber X</td>\n",
       "      <td>4.40</td>\n",
       "      <td>2016-12-17 16:00:00</td>\n",
       "    </tr>\n",
       "    <tr>\n",
       "      <th>2</th>\n",
       "      <td>NaN</td>\n",
       "      <td>0.55</td>\n",
       "      <td>2016-12-16 15:38:00</td>\n",
       "      <td>NaN</td>\n",
       "      <td>25.83</td>\n",
       "      <td>1.63</td>\n",
       "      <td>NaN</td>\n",
       "      <td>NaN</td>\n",
       "      <td>17.82</td>\n",
       "      <td>uberX</td>\n",
       "      <td>6.67</td>\n",
       "      <td>2016-12-16 16:00:00</td>\n",
       "    </tr>\n",
       "    <tr>\n",
       "      <th>3</th>\n",
       "      <td>NaN</td>\n",
       "      <td>0.57</td>\n",
       "      <td>2016-12-16 19:40:00</td>\n",
       "      <td>NaN</td>\n",
       "      <td>16.86</td>\n",
       "      <td>2.01</td>\n",
       "      <td>10.12</td>\n",
       "      <td>NaN</td>\n",
       "      <td>17.65</td>\n",
       "      <td>uberX</td>\n",
       "      <td>6.75</td>\n",
       "      <td>2016-12-16 20:00:00</td>\n",
       "    </tr>\n",
       "    <tr>\n",
       "      <th>4</th>\n",
       "      <td>NaN</td>\n",
       "      <td>0.17</td>\n",
       "      <td>2016-12-16 09:53:00</td>\n",
       "      <td>NaN</td>\n",
       "      <td>8.00</td>\n",
       "      <td>0.59</td>\n",
       "      <td>NaN</td>\n",
       "      <td>NaN</td>\n",
       "      <td>5.40</td>\n",
       "      <td>uberX</td>\n",
       "      <td>2.05</td>\n",
       "      <td>2016-12-16 10:00:00</td>\n",
       "    </tr>\n",
       "  </tbody>\n",
       "</table>\n",
       "</div>"
      ],
      "text/plain": [
       "      Additional Pickups Black Car Fund           Date/Time Distance   Fare  \\\n",
       "index                                                                         \n",
       "0                    NaN           0.35 2016-12-17 18:51:00      NaN  11.32   \n",
       "1                    NaN            NaN 2016-12-17 15:33:00      NaN  17.60   \n",
       "2                    NaN           0.55 2016-12-16 15:38:00      NaN  25.83   \n",
       "3                    NaN           0.57 2016-12-16 19:40:00      NaN  16.86   \n",
       "4                    NaN           0.17 2016-12-16 09:53:00      NaN   8.00   \n",
       "\n",
       "      Sales Tax  Surge Time  Total    Type Uber Fee      DATE_formatted  \n",
       "index                                                                    \n",
       "0          1.24   3.40  NaN   9.45   uberX     3.68 2016-12-17 19:00:00  \n",
       "1           NaN    NaN  NaN  13.20  uber X     4.40 2016-12-17 16:00:00  \n",
       "2          1.63    NaN  NaN  17.82   uberX     6.67 2016-12-16 16:00:00  \n",
       "3          2.01  10.12  NaN  17.65   uberX     6.75 2016-12-16 20:00:00  \n",
       "4          0.59    NaN  NaN   5.40   uberX     2.05 2016-12-16 10:00:00  "
      ]
     },
     "execution_count": 37,
     "metadata": {},
     "output_type": "execute_result"
    }
   ],
   "source": [
    "df.head()"
   ]
  },
  {
   "cell_type": "code",
   "execution_count": null,
   "metadata": {},
   "outputs": [],
   "source": [
    "#temp = pd.Series([0,1,2])"
   ]
  },
  {
   "cell_type": "code",
   "execution_count": null,
   "metadata": {},
   "outputs": [],
   "source": [
    "#temp.astype(str)[0]"
   ]
  },
  {
   "cell_type": "code",
   "execution_count": null,
   "metadata": {},
   "outputs": [],
   "source": [
    "#def strip_list(my_series):\n",
    " #   my_series = my_series.astype(str).str.replace(\"-\", \"\")\n",
    "  #  my_series = my_series.astype(str).str.replace(\"$\", \"\")\n",
    "    \n",
    "   # return(my_series)\n"
   ]
  },
  {
   "cell_type": "code",
   "execution_count": null,
   "metadata": {},
   "outputs": [],
   "source": [
    "#strip_list(pd.Series([\"$\", \"\"]))"
   ]
  },
  {
   "cell_type": "code",
   "execution_count": null,
   "metadata": {},
   "outputs": [],
   "source": [
    "#df.columns"
   ]
  },
  {
   "cell_type": "code",
   "execution_count": null,
   "metadata": {},
   "outputs": [],
   "source": [
    "#cols_to_strip = [\"Additional Pickups\", \"Base Fare\", \"Black Car Fund\",\n",
    " #                \"Distance\", \"Fare\", \"Sales Tax\", \"Surge\", \"Time\", \"Total\"]"
   ]
  },
  {
   "cell_type": "code",
   "execution_count": null,
   "metadata": {},
   "outputs": [],
   "source": [
    "#New_cols = df[cols_to_strip].apply(lambda x: strip_list(x))"
   ]
  },
  {
   "cell_type": "code",
   "execution_count": null,
   "metadata": {},
   "outputs": [],
   "source": [
    "#New_cols.shape"
   ]
  },
  {
   "cell_type": "code",
   "execution_count": null,
   "metadata": {},
   "outputs": [],
   "source": [
    "#New_cols.columns"
   ]
  },
  {
   "cell_type": "code",
   "execution_count": null,
   "metadata": {},
   "outputs": [],
   "source": [
    "#df.columns"
   ]
  },
  {
   "cell_type": "code",
   "execution_count": null,
   "metadata": {},
   "outputs": [],
   "source": [
    "#new_df = pd.concat([df, New_cols], axis=1)"
   ]
  },
  {
   "cell_type": "code",
   "execution_count": null,
   "metadata": {},
   "outputs": [],
   "source": [
    "#new_df.shape"
   ]
  },
  {
   "cell_type": "code",
   "execution_count": null,
   "metadata": {},
   "outputs": [],
   "source": [
    "#new_df.head()"
   ]
  },
  {
   "cell_type": "code",
   "execution_count": null,
   "metadata": {},
   "outputs": [],
   "source": [
    "#new_df.shape"
   ]
  },
  {
   "cell_type": "code",
   "execution_count": null,
   "metadata": {
    "scrolled": true
   },
   "outputs": [],
   "source": [
    "#new_df.columns = list(range(0, len(new_df.columns)))"
   ]
  },
  {
   "cell_type": "code",
   "execution_count": null,
   "metadata": {},
   "outputs": [],
   "source": [
    "#df[\"Sales Tax\"].fillna(0, inplace=True)"
   ]
  },
  {
   "cell_type": "code",
   "execution_count": null,
   "metadata": {},
   "outputs": [],
   "source": [
    "#df.head()"
   ]
  },
  {
   "cell_type": "code",
   "execution_count": null,
   "metadata": {},
   "outputs": [],
   "source": [
    "#df = df.apply(lambda x: x.replace(\"-\", \"\"))"
   ]
  },
  {
   "cell_type": "code",
   "execution_count": null,
   "metadata": {},
   "outputs": [],
   "source": [
    "#df = df.apply(lambda x: x.replace(\"$\", \"\"))"
   ]
  },
  {
   "cell_type": "code",
   "execution_count": null,
   "metadata": {},
   "outputs": [],
   "source": [
    "#df = df.apply(lambda x: x.replace(\"$\", \"\") for x in [y for y in df.columns if y != \"Date/Time\"])"
   ]
  },
  {
   "cell_type": "code",
   "execution_count": null,
   "metadata": {},
   "outputs": [],
   "source": [
    "#df.head()"
   ]
  },
  {
   "cell_type": "code",
   "execution_count": null,
   "metadata": {},
   "outputs": [],
   "source": [
    "#for i in df[\"Sales Tax\"]:\n",
    " #   if i == 0:\n",
    "  #     print(df.loc[\"Fare\",i.index] * 0.08)\n",
    "   # else:\n",
    "    #   print(i)"
   ]
  },
  {
   "cell_type": "code",
   "execution_count": null,
   "metadata": {},
   "outputs": [],
   "source": [
    "df.dtypes"
   ]
  },
  {
   "cell_type": "code",
   "execution_count": null,
   "metadata": {},
   "outputs": [],
   "source": [
    "#df[\"Sales Tax\"].fillna(0, inplace=True)"
   ]
  },
  {
   "cell_type": "markdown",
   "metadata": {},
   "source": [
    "## Change all the Nans to 0"
   ]
  },
  {
   "cell_type": "code",
   "execution_count": 38,
   "metadata": {},
   "outputs": [],
   "source": [
    "df = df.fillna(0)"
   ]
  },
  {
   "cell_type": "code",
   "execution_count": 39,
   "metadata": {},
   "outputs": [
    {
     "data": {
      "text/html": [
       "<div>\n",
       "<style scoped>\n",
       "    .dataframe tbody tr th:only-of-type {\n",
       "        vertical-align: middle;\n",
       "    }\n",
       "\n",
       "    .dataframe tbody tr th {\n",
       "        vertical-align: top;\n",
       "    }\n",
       "\n",
       "    .dataframe thead th {\n",
       "        text-align: right;\n",
       "    }\n",
       "</style>\n",
       "<table border=\"1\" class=\"dataframe\">\n",
       "  <thead>\n",
       "    <tr style=\"text-align: right;\">\n",
       "      <th></th>\n",
       "      <th>Additional Pickups</th>\n",
       "      <th>Black Car Fund</th>\n",
       "      <th>Date/Time</th>\n",
       "      <th>Distance</th>\n",
       "      <th>Fare</th>\n",
       "      <th>Sales Tax</th>\n",
       "      <th>Surge</th>\n",
       "      <th>Time</th>\n",
       "      <th>Total</th>\n",
       "      <th>Type</th>\n",
       "      <th>Uber Fee</th>\n",
       "      <th>DATE_formatted</th>\n",
       "    </tr>\n",
       "    <tr>\n",
       "      <th>index</th>\n",
       "      <th></th>\n",
       "      <th></th>\n",
       "      <th></th>\n",
       "      <th></th>\n",
       "      <th></th>\n",
       "      <th></th>\n",
       "      <th></th>\n",
       "      <th></th>\n",
       "      <th></th>\n",
       "      <th></th>\n",
       "      <th></th>\n",
       "      <th></th>\n",
       "    </tr>\n",
       "  </thead>\n",
       "  <tbody>\n",
       "    <tr>\n",
       "      <th>0</th>\n",
       "      <td>0</td>\n",
       "      <td>0.35</td>\n",
       "      <td>2016-12-17 18:51:00</td>\n",
       "      <td>0</td>\n",
       "      <td>11.32</td>\n",
       "      <td>1.24</td>\n",
       "      <td>3.40</td>\n",
       "      <td>0</td>\n",
       "      <td>9.45</td>\n",
       "      <td>uberX</td>\n",
       "      <td>3.68</td>\n",
       "      <td>2016-12-17 19:00:00</td>\n",
       "    </tr>\n",
       "    <tr>\n",
       "      <th>1</th>\n",
       "      <td>0</td>\n",
       "      <td>0</td>\n",
       "      <td>2016-12-17 15:33:00</td>\n",
       "      <td>0</td>\n",
       "      <td>17.60</td>\n",
       "      <td>0</td>\n",
       "      <td>0</td>\n",
       "      <td>0</td>\n",
       "      <td>13.20</td>\n",
       "      <td>uber X</td>\n",
       "      <td>4.40</td>\n",
       "      <td>2016-12-17 16:00:00</td>\n",
       "    </tr>\n",
       "    <tr>\n",
       "      <th>2</th>\n",
       "      <td>0</td>\n",
       "      <td>0.55</td>\n",
       "      <td>2016-12-16 15:38:00</td>\n",
       "      <td>0</td>\n",
       "      <td>25.83</td>\n",
       "      <td>1.63</td>\n",
       "      <td>0</td>\n",
       "      <td>0</td>\n",
       "      <td>17.82</td>\n",
       "      <td>uberX</td>\n",
       "      <td>6.67</td>\n",
       "      <td>2016-12-16 16:00:00</td>\n",
       "    </tr>\n",
       "    <tr>\n",
       "      <th>3</th>\n",
       "      <td>0</td>\n",
       "      <td>0.57</td>\n",
       "      <td>2016-12-16 19:40:00</td>\n",
       "      <td>0</td>\n",
       "      <td>16.86</td>\n",
       "      <td>2.01</td>\n",
       "      <td>10.12</td>\n",
       "      <td>0</td>\n",
       "      <td>17.65</td>\n",
       "      <td>uberX</td>\n",
       "      <td>6.75</td>\n",
       "      <td>2016-12-16 20:00:00</td>\n",
       "    </tr>\n",
       "    <tr>\n",
       "      <th>4</th>\n",
       "      <td>0</td>\n",
       "      <td>0.17</td>\n",
       "      <td>2016-12-16 09:53:00</td>\n",
       "      <td>0</td>\n",
       "      <td>8.00</td>\n",
       "      <td>0.59</td>\n",
       "      <td>0</td>\n",
       "      <td>0</td>\n",
       "      <td>5.40</td>\n",
       "      <td>uberX</td>\n",
       "      <td>2.05</td>\n",
       "      <td>2016-12-16 10:00:00</td>\n",
       "    </tr>\n",
       "  </tbody>\n",
       "</table>\n",
       "</div>"
      ],
      "text/plain": [
       "      Additional Pickups Black Car Fund           Date/Time Distance   Fare  \\\n",
       "index                                                                         \n",
       "0                      0           0.35 2016-12-17 18:51:00        0  11.32   \n",
       "1                      0              0 2016-12-17 15:33:00        0  17.60   \n",
       "2                      0           0.55 2016-12-16 15:38:00        0  25.83   \n",
       "3                      0           0.57 2016-12-16 19:40:00        0  16.86   \n",
       "4                      0           0.17 2016-12-16 09:53:00        0   8.00   \n",
       "\n",
       "      Sales Tax  Surge Time  Total    Type Uber Fee      DATE_formatted  \n",
       "index                                                                    \n",
       "0          1.24   3.40    0   9.45   uberX     3.68 2016-12-17 19:00:00  \n",
       "1             0      0    0  13.20  uber X     4.40 2016-12-17 16:00:00  \n",
       "2          1.63      0    0  17.82   uberX     6.67 2016-12-16 16:00:00  \n",
       "3          2.01  10.12    0  17.65   uberX     6.75 2016-12-16 20:00:00  \n",
       "4          0.59      0    0   5.40   uberX     2.05 2016-12-16 10:00:00  "
      ]
     },
     "execution_count": 39,
     "metadata": {},
     "output_type": "execute_result"
    }
   ],
   "source": [
    "df.head()"
   ]
  },
  {
   "cell_type": "code",
   "execution_count": 40,
   "metadata": {},
   "outputs": [
    {
     "data": {
      "text/plain": [
       "Additional Pickups    0\n",
       "Black Car Fund        0\n",
       "Date/Time             0\n",
       "Distance              0\n",
       "Fare                  0\n",
       "Sales Tax             0\n",
       "Surge                 0\n",
       "Time                  0\n",
       "Total                 0\n",
       "Type                  0\n",
       "Uber Fee              0\n",
       "DATE_formatted        0\n",
       "dtype: int64"
      ]
     },
     "execution_count": 40,
     "metadata": {},
     "output_type": "execute_result"
    }
   ],
   "source": [
    "# check to see if we still have any null values\n",
    "df.isnull().sum()"
   ]
  },
  {
   "cell_type": "code",
   "execution_count": 41,
   "metadata": {},
   "outputs": [
    {
     "data": {
      "text/plain": [
       "Additional Pickups            object\n",
       "Black Car Fund                object\n",
       "Date/Time             datetime64[ns]\n",
       "Distance                      object\n",
       "Fare                          object\n",
       "Sales Tax                     object\n",
       "Surge                         object\n",
       "Time                          object\n",
       "Total                         object\n",
       "Type                          object\n",
       "Uber Fee                      object\n",
       "DATE_formatted        datetime64[ns]\n",
       "dtype: object"
      ]
     },
     "execution_count": 41,
     "metadata": {},
     "output_type": "execute_result"
    }
   ],
   "source": [
    "df.dtypes"
   ]
  },
  {
   "cell_type": "code",
   "execution_count": 42,
   "metadata": {},
   "outputs": [],
   "source": [
    "df[\"Fare\"] = df[\"Fare\"].astype(float)"
   ]
  },
  {
   "cell_type": "code",
   "execution_count": 43,
   "metadata": {},
   "outputs": [],
   "source": [
    "df[\"Sales Tax\"] = df[\"Sales Tax\"].astype(float)"
   ]
  },
  {
   "cell_type": "code",
   "execution_count": 44,
   "metadata": {},
   "outputs": [],
   "source": [
    "df[\"Total\"] = df[\"Total\"].astype(float)"
   ]
  },
  {
   "cell_type": "code",
   "execution_count": 45,
   "metadata": {},
   "outputs": [],
   "source": [
    "df[\"Additional Pickups\"] = df[\"Additional Pickups\"].astype(float)"
   ]
  },
  {
   "cell_type": "code",
   "execution_count": 46,
   "metadata": {},
   "outputs": [],
   "source": [
    "df[\"Black Car Fund\"] = df[\"Black Car Fund\"].astype(float)"
   ]
  },
  {
   "cell_type": "code",
   "execution_count": 47,
   "metadata": {},
   "outputs": [],
   "source": [
    "df[\"Distance\"] = df[\"Distance\"].astype(float)"
   ]
  },
  {
   "cell_type": "code",
   "execution_count": 48,
   "metadata": {},
   "outputs": [],
   "source": [
    "df[\"Surge\"] = df[\"Surge\"].astype(float)\n"
   ]
  },
  {
   "cell_type": "code",
   "execution_count": 49,
   "metadata": {},
   "outputs": [],
   "source": [
    "df[\"Time\"] = df[\"Time\"].astype(float)"
   ]
  },
  {
   "cell_type": "code",
   "execution_count": 51,
   "metadata": {},
   "outputs": [],
   "source": [
    "df[\"Uber Fee\"] = df[\"Uber Fee\"].astype(float)"
   ]
  },
  {
   "cell_type": "code",
   "execution_count": 52,
   "metadata": {},
   "outputs": [
    {
     "data": {
      "text/plain": [
       "Additional Pickups           float64\n",
       "Black Car Fund               float64\n",
       "Date/Time             datetime64[ns]\n",
       "Distance                     float64\n",
       "Fare                         float64\n",
       "Sales Tax                    float64\n",
       "Surge                        float64\n",
       "Time                         float64\n",
       "Total                        float64\n",
       "Type                          object\n",
       "Uber Fee                     float64\n",
       "DATE_formatted        datetime64[ns]\n",
       "dtype: object"
      ]
     },
     "execution_count": 52,
     "metadata": {},
     "output_type": "execute_result"
    }
   ],
   "source": [
    "df.dtypes"
   ]
  },
  {
   "cell_type": "code",
   "execution_count": 53,
   "metadata": {},
   "outputs": [
    {
     "data": {
      "text/plain": [
       "Additional Pickups    0\n",
       "Black Car Fund        0\n",
       "Date/Time             0\n",
       "Distance              0\n",
       "Fare                  0\n",
       "Sales Tax             0\n",
       "Surge                 0\n",
       "Time                  0\n",
       "Total                 0\n",
       "Type                  0\n",
       "Uber Fee              0\n",
       "DATE_formatted        0\n",
       "dtype: int64"
      ]
     },
     "execution_count": 53,
     "metadata": {},
     "output_type": "execute_result"
    }
   ],
   "source": [
    "df.isnull().sum()"
   ]
  },
  {
   "cell_type": "code",
   "execution_count": 60,
   "metadata": {
    "scrolled": false
   },
   "outputs": [
    {
     "data": {
      "text/plain": [
       "1593"
      ]
     },
     "execution_count": 60,
     "metadata": {},
     "output_type": "execute_result"
    }
   ],
   "source": [
    "len([i for i in df[\"Sales Tax\"] if i == 0])"
   ]
  },
  {
   "cell_type": "code",
   "execution_count": null,
   "metadata": {},
   "outputs": [],
   "source": [
    "[i*.08 for i in df[\"Fare\"] if df.loc[\"Sales Tax\",df.index.get_loc(i)] != 0]\n"
   ]
  },
  {
   "cell_type": "code",
   "execution_count": 64,
   "metadata": {},
   "outputs": [],
   "source": [
    "df[\"new_Sales Tax\"] = (df[\"Fare\"] * .080).round(2)"
   ]
  },
  {
   "cell_type": "code",
   "execution_count": 65,
   "metadata": {},
   "outputs": [
    {
     "data": {
      "text/html": [
       "<div>\n",
       "<style scoped>\n",
       "    .dataframe tbody tr th:only-of-type {\n",
       "        vertical-align: middle;\n",
       "    }\n",
       "\n",
       "    .dataframe tbody tr th {\n",
       "        vertical-align: top;\n",
       "    }\n",
       "\n",
       "    .dataframe thead th {\n",
       "        text-align: right;\n",
       "    }\n",
       "</style>\n",
       "<table border=\"1\" class=\"dataframe\">\n",
       "  <thead>\n",
       "    <tr style=\"text-align: right;\">\n",
       "      <th></th>\n",
       "      <th>Additional Pickups</th>\n",
       "      <th>Black Car Fund</th>\n",
       "      <th>Date/Time</th>\n",
       "      <th>Distance</th>\n",
       "      <th>Fare</th>\n",
       "      <th>Sales Tax</th>\n",
       "      <th>Surge</th>\n",
       "      <th>Time</th>\n",
       "      <th>Total</th>\n",
       "      <th>Type</th>\n",
       "      <th>Uber Fee</th>\n",
       "      <th>DATE_formatted</th>\n",
       "      <th>new_Sales Tax</th>\n",
       "    </tr>\n",
       "    <tr>\n",
       "      <th>index</th>\n",
       "      <th></th>\n",
       "      <th></th>\n",
       "      <th></th>\n",
       "      <th></th>\n",
       "      <th></th>\n",
       "      <th></th>\n",
       "      <th></th>\n",
       "      <th></th>\n",
       "      <th></th>\n",
       "      <th></th>\n",
       "      <th></th>\n",
       "      <th></th>\n",
       "      <th></th>\n",
       "    </tr>\n",
       "  </thead>\n",
       "  <tbody>\n",
       "    <tr>\n",
       "      <th>0</th>\n",
       "      <td>0.0</td>\n",
       "      <td>0.35</td>\n",
       "      <td>2016-12-17 18:51:00</td>\n",
       "      <td>0.0</td>\n",
       "      <td>11.32</td>\n",
       "      <td>1.24</td>\n",
       "      <td>3.40</td>\n",
       "      <td>0.0</td>\n",
       "      <td>9.45</td>\n",
       "      <td>uberX</td>\n",
       "      <td>3.68</td>\n",
       "      <td>2016-12-17 19:00:00</td>\n",
       "      <td>0.91</td>\n",
       "    </tr>\n",
       "    <tr>\n",
       "      <th>1</th>\n",
       "      <td>0.0</td>\n",
       "      <td>0.00</td>\n",
       "      <td>2016-12-17 15:33:00</td>\n",
       "      <td>0.0</td>\n",
       "      <td>17.60</td>\n",
       "      <td>0.00</td>\n",
       "      <td>0.00</td>\n",
       "      <td>0.0</td>\n",
       "      <td>13.20</td>\n",
       "      <td>uber X</td>\n",
       "      <td>4.40</td>\n",
       "      <td>2016-12-17 16:00:00</td>\n",
       "      <td>1.41</td>\n",
       "    </tr>\n",
       "    <tr>\n",
       "      <th>2</th>\n",
       "      <td>0.0</td>\n",
       "      <td>0.55</td>\n",
       "      <td>2016-12-16 15:38:00</td>\n",
       "      <td>0.0</td>\n",
       "      <td>25.83</td>\n",
       "      <td>1.63</td>\n",
       "      <td>0.00</td>\n",
       "      <td>0.0</td>\n",
       "      <td>17.82</td>\n",
       "      <td>uberX</td>\n",
       "      <td>6.67</td>\n",
       "      <td>2016-12-16 16:00:00</td>\n",
       "      <td>2.07</td>\n",
       "    </tr>\n",
       "    <tr>\n",
       "      <th>3</th>\n",
       "      <td>0.0</td>\n",
       "      <td>0.57</td>\n",
       "      <td>2016-12-16 19:40:00</td>\n",
       "      <td>0.0</td>\n",
       "      <td>16.86</td>\n",
       "      <td>2.01</td>\n",
       "      <td>10.12</td>\n",
       "      <td>0.0</td>\n",
       "      <td>17.65</td>\n",
       "      <td>uberX</td>\n",
       "      <td>6.75</td>\n",
       "      <td>2016-12-16 20:00:00</td>\n",
       "      <td>1.35</td>\n",
       "    </tr>\n",
       "    <tr>\n",
       "      <th>4</th>\n",
       "      <td>0.0</td>\n",
       "      <td>0.17</td>\n",
       "      <td>2016-12-16 09:53:00</td>\n",
       "      <td>0.0</td>\n",
       "      <td>8.00</td>\n",
       "      <td>0.59</td>\n",
       "      <td>0.00</td>\n",
       "      <td>0.0</td>\n",
       "      <td>5.40</td>\n",
       "      <td>uberX</td>\n",
       "      <td>2.05</td>\n",
       "      <td>2016-12-16 10:00:00</td>\n",
       "      <td>0.64</td>\n",
       "    </tr>\n",
       "  </tbody>\n",
       "</table>\n",
       "</div>"
      ],
      "text/plain": [
       "       Additional Pickups  Black Car Fund           Date/Time  Distance  \\\n",
       "index                                                                     \n",
       "0                     0.0            0.35 2016-12-17 18:51:00       0.0   \n",
       "1                     0.0            0.00 2016-12-17 15:33:00       0.0   \n",
       "2                     0.0            0.55 2016-12-16 15:38:00       0.0   \n",
       "3                     0.0            0.57 2016-12-16 19:40:00       0.0   \n",
       "4                     0.0            0.17 2016-12-16 09:53:00       0.0   \n",
       "\n",
       "        Fare  Sales Tax  Surge  Time  Total    Type  Uber Fee  \\\n",
       "index                                                           \n",
       "0      11.32       1.24   3.40   0.0   9.45   uberX      3.68   \n",
       "1      17.60       0.00   0.00   0.0  13.20  uber X      4.40   \n",
       "2      25.83       1.63   0.00   0.0  17.82   uberX      6.67   \n",
       "3      16.86       2.01  10.12   0.0  17.65   uberX      6.75   \n",
       "4       8.00       0.59   0.00   0.0   5.40   uberX      2.05   \n",
       "\n",
       "           DATE_formatted  new_Sales Tax  \n",
       "index                                     \n",
       "0     2016-12-17 19:00:00           0.91  \n",
       "1     2016-12-17 16:00:00           1.41  \n",
       "2     2016-12-16 16:00:00           2.07  \n",
       "3     2016-12-16 20:00:00           1.35  \n",
       "4     2016-12-16 10:00:00           0.64  "
      ]
     },
     "execution_count": 65,
     "metadata": {},
     "output_type": "execute_result"
    }
   ],
   "source": [
    "df.head()"
   ]
  },
  {
   "cell_type": "code",
   "execution_count": 66,
   "metadata": {},
   "outputs": [
    {
     "data": {
      "text/html": [
       "<div>\n",
       "<style scoped>\n",
       "    .dataframe tbody tr th:only-of-type {\n",
       "        vertical-align: middle;\n",
       "    }\n",
       "\n",
       "    .dataframe tbody tr th {\n",
       "        vertical-align: top;\n",
       "    }\n",
       "\n",
       "    .dataframe thead th {\n",
       "        text-align: right;\n",
       "    }\n",
       "</style>\n",
       "<table border=\"1\" class=\"dataframe\">\n",
       "  <thead>\n",
       "    <tr style=\"text-align: right;\">\n",
       "      <th></th>\n",
       "      <th>Additional Pickups</th>\n",
       "      <th>Black Car Fund</th>\n",
       "      <th>Date/Time</th>\n",
       "      <th>Distance</th>\n",
       "      <th>Fare</th>\n",
       "      <th>Sales Tax</th>\n",
       "      <th>Surge</th>\n",
       "      <th>Time</th>\n",
       "      <th>Total</th>\n",
       "      <th>Type</th>\n",
       "      <th>Uber Fee</th>\n",
       "      <th>DATE_formatted</th>\n",
       "      <th>new_Sales Tax</th>\n",
       "    </tr>\n",
       "    <tr>\n",
       "      <th>index</th>\n",
       "      <th></th>\n",
       "      <th></th>\n",
       "      <th></th>\n",
       "      <th></th>\n",
       "      <th></th>\n",
       "      <th></th>\n",
       "      <th></th>\n",
       "      <th></th>\n",
       "      <th></th>\n",
       "      <th></th>\n",
       "      <th></th>\n",
       "      <th></th>\n",
       "      <th></th>\n",
       "    </tr>\n",
       "  </thead>\n",
       "  <tbody>\n",
       "    <tr>\n",
       "      <th>14</th>\n",
       "      <td>0.75</td>\n",
       "      <td>0.0</td>\n",
       "      <td>2018-12-22 19:00:00</td>\n",
       "      <td>2.01</td>\n",
       "      <td>0.0</td>\n",
       "      <td>0.0</td>\n",
       "      <td>0.0</td>\n",
       "      <td>1.42</td>\n",
       "      <td>4.18</td>\n",
       "      <td>Pool</td>\n",
       "      <td>0.0</td>\n",
       "      <td>2018-12-22 19:00:00</td>\n",
       "      <td>0.0</td>\n",
       "    </tr>\n",
       "    <tr>\n",
       "      <th>15</th>\n",
       "      <td>0.75</td>\n",
       "      <td>0.0</td>\n",
       "      <td>2018-12-22 19:03:00</td>\n",
       "      <td>10.21</td>\n",
       "      <td>0.0</td>\n",
       "      <td>0.0</td>\n",
       "      <td>0.0</td>\n",
       "      <td>8.50</td>\n",
       "      <td>22.34</td>\n",
       "      <td>Pool</td>\n",
       "      <td>0.0</td>\n",
       "      <td>2018-12-22 19:00:00</td>\n",
       "      <td>0.0</td>\n",
       "    </tr>\n",
       "    <tr>\n",
       "      <th>16</th>\n",
       "      <td>0.00</td>\n",
       "      <td>0.0</td>\n",
       "      <td>2018-12-22 23:47:00</td>\n",
       "      <td>5.82</td>\n",
       "      <td>0.0</td>\n",
       "      <td>0.0</td>\n",
       "      <td>0.0</td>\n",
       "      <td>5.95</td>\n",
       "      <td>13.49</td>\n",
       "      <td>UberX</td>\n",
       "      <td>0.0</td>\n",
       "      <td>2018-12-23 00:00:00</td>\n",
       "      <td>0.0</td>\n",
       "    </tr>\n",
       "    <tr>\n",
       "      <th>17</th>\n",
       "      <td>0.00</td>\n",
       "      <td>0.0</td>\n",
       "      <td>2018-12-22 19:01:00</td>\n",
       "      <td>3.77</td>\n",
       "      <td>0.0</td>\n",
       "      <td>0.0</td>\n",
       "      <td>0.0</td>\n",
       "      <td>3.11</td>\n",
       "      <td>8.60</td>\n",
       "      <td>Pool</td>\n",
       "      <td>0.0</td>\n",
       "      <td>2018-12-22 19:00:00</td>\n",
       "      <td>0.0</td>\n",
       "    </tr>\n",
       "    <tr>\n",
       "      <th>18</th>\n",
       "      <td>0.75</td>\n",
       "      <td>0.0</td>\n",
       "      <td>2018-12-23 01:09:00</td>\n",
       "      <td>0.53</td>\n",
       "      <td>0.0</td>\n",
       "      <td>0.0</td>\n",
       "      <td>0.0</td>\n",
       "      <td>0.64</td>\n",
       "      <td>1.92</td>\n",
       "      <td>Pool</td>\n",
       "      <td>0.0</td>\n",
       "      <td>2018-12-23 01:00:00</td>\n",
       "      <td>0.0</td>\n",
       "    </tr>\n",
       "  </tbody>\n",
       "</table>\n",
       "</div>"
      ],
      "text/plain": [
       "       Additional Pickups  Black Car Fund           Date/Time  Distance  Fare  \\\n",
       "index                                                                           \n",
       "14                   0.75             0.0 2018-12-22 19:00:00      2.01   0.0   \n",
       "15                   0.75             0.0 2018-12-22 19:03:00     10.21   0.0   \n",
       "16                   0.00             0.0 2018-12-22 23:47:00      5.82   0.0   \n",
       "17                   0.00             0.0 2018-12-22 19:01:00      3.77   0.0   \n",
       "18                   0.75             0.0 2018-12-23 01:09:00      0.53   0.0   \n",
       "\n",
       "       Sales Tax  Surge  Time  Total   Type  Uber Fee      DATE_formatted  \\\n",
       "index                                                                       \n",
       "14           0.0    0.0  1.42   4.18   Pool       0.0 2018-12-22 19:00:00   \n",
       "15           0.0    0.0  8.50  22.34   Pool       0.0 2018-12-22 19:00:00   \n",
       "16           0.0    0.0  5.95  13.49  UberX       0.0 2018-12-23 00:00:00   \n",
       "17           0.0    0.0  3.11   8.60   Pool       0.0 2018-12-22 19:00:00   \n",
       "18           0.0    0.0  0.64   1.92   Pool       0.0 2018-12-23 01:00:00   \n",
       "\n",
       "       new_Sales Tax  \n",
       "index                 \n",
       "14               0.0  \n",
       "15               0.0  \n",
       "16               0.0  \n",
       "17               0.0  \n",
       "18               0.0  "
      ]
     },
     "execution_count": 66,
     "metadata": {},
     "output_type": "execute_result"
    }
   ],
   "source": [
    "df.tail()"
   ]
  },
  {
   "cell_type": "code",
   "execution_count": 69,
   "metadata": {},
   "outputs": [
    {
     "data": {
      "text/plain": [
       "663"
      ]
     },
     "execution_count": 69,
     "metadata": {},
     "output_type": "execute_result"
    }
   ],
   "source": [
    "len([i for i in df[\"Fare\"] if i != 0])"
   ]
  },
  {
   "cell_type": "code",
   "execution_count": 70,
   "metadata": {},
   "outputs": [
    {
     "data": {
      "text/html": [
       "<div>\n",
       "<style scoped>\n",
       "    .dataframe tbody tr th:only-of-type {\n",
       "        vertical-align: middle;\n",
       "    }\n",
       "\n",
       "    .dataframe tbody tr th {\n",
       "        vertical-align: top;\n",
       "    }\n",
       "\n",
       "    .dataframe thead th {\n",
       "        text-align: right;\n",
       "    }\n",
       "</style>\n",
       "<table border=\"1\" class=\"dataframe\">\n",
       "  <thead>\n",
       "    <tr style=\"text-align: right;\">\n",
       "      <th></th>\n",
       "      <th>Additional Pickups</th>\n",
       "      <th>Black Car Fund</th>\n",
       "      <th>Distance</th>\n",
       "      <th>Fare</th>\n",
       "      <th>Sales Tax</th>\n",
       "      <th>Surge</th>\n",
       "      <th>Time</th>\n",
       "      <th>Total</th>\n",
       "      <th>Uber Fee</th>\n",
       "      <th>new_Sales Tax</th>\n",
       "    </tr>\n",
       "  </thead>\n",
       "  <tbody>\n",
       "    <tr>\n",
       "      <th>Additional Pickups</th>\n",
       "      <td>1.000000</td>\n",
       "      <td>-0.190783</td>\n",
       "      <td>-0.031736</td>\n",
       "      <td>-0.217706</td>\n",
       "      <td>-0.200056</td>\n",
       "      <td>0.017239</td>\n",
       "      <td>0.033779</td>\n",
       "      <td>-0.194232</td>\n",
       "      <td>-0.220686</td>\n",
       "      <td>-0.217705</td>\n",
       "    </tr>\n",
       "    <tr>\n",
       "      <th>Black Car Fund</th>\n",
       "      <td>-0.190783</td>\n",
       "      <td>1.000000</td>\n",
       "      <td>-0.274327</td>\n",
       "      <td>0.942146</td>\n",
       "      <td>0.833170</td>\n",
       "      <td>0.087085</td>\n",
       "      <td>-0.375928</td>\n",
       "      <td>0.470904</td>\n",
       "      <td>0.947167</td>\n",
       "      <td>0.942147</td>\n",
       "    </tr>\n",
       "    <tr>\n",
       "      <th>Distance</th>\n",
       "      <td>-0.031736</td>\n",
       "      <td>-0.274327</td>\n",
       "      <td>1.000000</td>\n",
       "      <td>-0.313040</td>\n",
       "      <td>-0.287661</td>\n",
       "      <td>0.053192</td>\n",
       "      <td>0.805048</td>\n",
       "      <td>0.603973</td>\n",
       "      <td>-0.317325</td>\n",
       "      <td>-0.313040</td>\n",
       "    </tr>\n",
       "    <tr>\n",
       "      <th>Fare</th>\n",
       "      <td>-0.217706</td>\n",
       "      <td>0.942146</td>\n",
       "      <td>-0.313040</td>\n",
       "      <td>1.000000</td>\n",
       "      <td>0.858200</td>\n",
       "      <td>0.041242</td>\n",
       "      <td>-0.428978</td>\n",
       "      <td>0.434597</td>\n",
       "      <td>0.991799</td>\n",
       "      <td>0.999998</td>\n",
       "    </tr>\n",
       "    <tr>\n",
       "      <th>Sales Tax</th>\n",
       "      <td>-0.200056</td>\n",
       "      <td>0.833170</td>\n",
       "      <td>-0.287661</td>\n",
       "      <td>0.858200</td>\n",
       "      <td>1.000000</td>\n",
       "      <td>0.062081</td>\n",
       "      <td>-0.394199</td>\n",
       "      <td>0.300405</td>\n",
       "      <td>0.861408</td>\n",
       "      <td>0.858205</td>\n",
       "    </tr>\n",
       "    <tr>\n",
       "      <th>Surge</th>\n",
       "      <td>0.017239</td>\n",
       "      <td>0.087085</td>\n",
       "      <td>0.053192</td>\n",
       "      <td>0.041242</td>\n",
       "      <td>0.062081</td>\n",
       "      <td>1.000000</td>\n",
       "      <td>0.171182</td>\n",
       "      <td>0.347710</td>\n",
       "      <td>0.088803</td>\n",
       "      <td>0.041234</td>\n",
       "    </tr>\n",
       "    <tr>\n",
       "      <th>Time</th>\n",
       "      <td>0.033779</td>\n",
       "      <td>-0.375928</td>\n",
       "      <td>0.805048</td>\n",
       "      <td>-0.428978</td>\n",
       "      <td>-0.394199</td>\n",
       "      <td>0.171182</td>\n",
       "      <td>1.000000</td>\n",
       "      <td>0.499321</td>\n",
       "      <td>-0.434850</td>\n",
       "      <td>-0.428977</td>\n",
       "    </tr>\n",
       "    <tr>\n",
       "      <th>Total</th>\n",
       "      <td>-0.194232</td>\n",
       "      <td>0.470904</td>\n",
       "      <td>0.603973</td>\n",
       "      <td>0.434597</td>\n",
       "      <td>0.300405</td>\n",
       "      <td>0.347710</td>\n",
       "      <td>0.499321</td>\n",
       "      <td>1.000000</td>\n",
       "      <td>0.436226</td>\n",
       "      <td>0.434605</td>\n",
       "    </tr>\n",
       "    <tr>\n",
       "      <th>Uber Fee</th>\n",
       "      <td>-0.220686</td>\n",
       "      <td>0.947167</td>\n",
       "      <td>-0.317325</td>\n",
       "      <td>0.991799</td>\n",
       "      <td>0.861408</td>\n",
       "      <td>0.088803</td>\n",
       "      <td>-0.434850</td>\n",
       "      <td>0.436226</td>\n",
       "      <td>1.000000</td>\n",
       "      <td>0.991795</td>\n",
       "    </tr>\n",
       "    <tr>\n",
       "      <th>new_Sales Tax</th>\n",
       "      <td>-0.217705</td>\n",
       "      <td>0.942147</td>\n",
       "      <td>-0.313040</td>\n",
       "      <td>0.999998</td>\n",
       "      <td>0.858205</td>\n",
       "      <td>0.041234</td>\n",
       "      <td>-0.428977</td>\n",
       "      <td>0.434605</td>\n",
       "      <td>0.991795</td>\n",
       "      <td>1.000000</td>\n",
       "    </tr>\n",
       "  </tbody>\n",
       "</table>\n",
       "</div>"
      ],
      "text/plain": [
       "                    Additional Pickups  Black Car Fund  Distance      Fare  \\\n",
       "Additional Pickups            1.000000       -0.190783 -0.031736 -0.217706   \n",
       "Black Car Fund               -0.190783        1.000000 -0.274327  0.942146   \n",
       "Distance                     -0.031736       -0.274327  1.000000 -0.313040   \n",
       "Fare                         -0.217706        0.942146 -0.313040  1.000000   \n",
       "Sales Tax                    -0.200056        0.833170 -0.287661  0.858200   \n",
       "Surge                         0.017239        0.087085  0.053192  0.041242   \n",
       "Time                          0.033779       -0.375928  0.805048 -0.428978   \n",
       "Total                        -0.194232        0.470904  0.603973  0.434597   \n",
       "Uber Fee                     -0.220686        0.947167 -0.317325  0.991799   \n",
       "new_Sales Tax                -0.217705        0.942147 -0.313040  0.999998   \n",
       "\n",
       "                    Sales Tax     Surge      Time     Total  Uber Fee  \\\n",
       "Additional Pickups  -0.200056  0.017239  0.033779 -0.194232 -0.220686   \n",
       "Black Car Fund       0.833170  0.087085 -0.375928  0.470904  0.947167   \n",
       "Distance            -0.287661  0.053192  0.805048  0.603973 -0.317325   \n",
       "Fare                 0.858200  0.041242 -0.428978  0.434597  0.991799   \n",
       "Sales Tax            1.000000  0.062081 -0.394199  0.300405  0.861408   \n",
       "Surge                0.062081  1.000000  0.171182  0.347710  0.088803   \n",
       "Time                -0.394199  0.171182  1.000000  0.499321 -0.434850   \n",
       "Total                0.300405  0.347710  0.499321  1.000000  0.436226   \n",
       "Uber Fee             0.861408  0.088803 -0.434850  0.436226  1.000000   \n",
       "new_Sales Tax        0.858205  0.041234 -0.428977  0.434605  0.991795   \n",
       "\n",
       "                    new_Sales Tax  \n",
       "Additional Pickups      -0.217705  \n",
       "Black Car Fund           0.942147  \n",
       "Distance                -0.313040  \n",
       "Fare                     0.999998  \n",
       "Sales Tax                0.858205  \n",
       "Surge                    0.041234  \n",
       "Time                    -0.428977  \n",
       "Total                    0.434605  \n",
       "Uber Fee                 0.991795  \n",
       "new_Sales Tax            1.000000  "
      ]
     },
     "execution_count": 70,
     "metadata": {},
     "output_type": "execute_result"
    }
   ],
   "source": [
    "df.corr()"
   ]
  },
  {
   "cell_type": "code",
   "execution_count": 73,
   "metadata": {},
   "outputs": [
    {
     "data": {
      "image/png": "[encoded data removed]",
      "text/plain": [
       "<Figure size 432x288 with 2 Axes>"
      ]
     },
     "metadata": {},
     "output_type": "display_data"
    }
   ],
   "source": [
    "sns.heatmap(df.corr(), annot=True);"
   ]
  },
  {
   "cell_type": "code",
   "execution_count": 74,
   "metadata": {},
   "outputs": [],
   "source": [
    "df = pd.get_dummies(df, columns=[\"Type\"])"
   ]
  },
  {
   "cell_type": "code",
   "execution_count": 76,
   "metadata": {},
   "outputs": [
    {
     "data": {
      "text/html": [
       "<div>\n",
       "<style scoped>\n",
       "    .dataframe tbody tr th:only-of-type {\n",
       "        vertical-align: middle;\n",
       "    }\n",
       "\n",
       "    .dataframe tbody tr th {\n",
       "        vertical-align: top;\n",
       "    }\n",
       "\n",
       "    .dataframe thead th {\n",
       "        text-align: right;\n",
       "    }\n",
       "</style>\n",
       "<table border=\"1\" class=\"dataframe\">\n",
       "  <thead>\n",
       "    <tr style=\"text-align: right;\">\n",
       "      <th></th>\n",
       "      <th>Additional Pickups</th>\n",
       "      <th>Black Car Fund</th>\n",
       "      <th>Date/Time</th>\n",
       "      <th>Distance</th>\n",
       "      <th>Fare</th>\n",
       "      <th>Sales Tax</th>\n",
       "      <th>Surge</th>\n",
       "      <th>Time</th>\n",
       "      <th>Total</th>\n",
       "      <th>Uber Fee</th>\n",
       "      <th>DATE_formatted</th>\n",
       "      <th>new_Sales Tax</th>\n",
       "      <th>Type_POOL</th>\n",
       "      <th>Type_Pool</th>\n",
       "      <th>Type_UberX</th>\n",
       "      <th>Type_UberX VIP</th>\n",
       "      <th>Type_UberXL</th>\n",
       "      <th>Type_uber X</th>\n",
       "      <th>Type_uberX</th>\n",
       "    </tr>\n",
       "    <tr>\n",
       "      <th>index</th>\n",
       "      <th></th>\n",
       "      <th></th>\n",
       "      <th></th>\n",
       "      <th></th>\n",
       "      <th></th>\n",
       "      <th></th>\n",
       "      <th></th>\n",
       "      <th></th>\n",
       "      <th></th>\n",
       "      <th></th>\n",
       "      <th></th>\n",
       "      <th></th>\n",
       "      <th></th>\n",
       "      <th></th>\n",
       "      <th></th>\n",
       "      <th></th>\n",
       "      <th></th>\n",
       "      <th></th>\n",
       "      <th></th>\n",
       "    </tr>\n",
       "  </thead>\n",
       "  <tbody>\n",
       "    <tr>\n",
       "      <th>0</th>\n",
       "      <td>0.0</td>\n",
       "      <td>0.35</td>\n",
       "      <td>2016-12-17 18:51:00</td>\n",
       "      <td>0.0</td>\n",
       "      <td>11.32</td>\n",
       "      <td>1.24</td>\n",
       "      <td>3.40</td>\n",
       "      <td>0.0</td>\n",
       "      <td>9.45</td>\n",
       "      <td>3.68</td>\n",
       "      <td>2016-12-17 19:00:00</td>\n",
       "      <td>0.91</td>\n",
       "      <td>0</td>\n",
       "      <td>0</td>\n",
       "      <td>0</td>\n",
       "      <td>0</td>\n",
       "      <td>0</td>\n",
       "      <td>0</td>\n",
       "      <td>1</td>\n",
       "    </tr>\n",
       "    <tr>\n",
       "      <th>1</th>\n",
       "      <td>0.0</td>\n",
       "      <td>0.00</td>\n",
       "      <td>2016-12-17 15:33:00</td>\n",
       "      <td>0.0</td>\n",
       "      <td>17.60</td>\n",
       "      <td>0.00</td>\n",
       "      <td>0.00</td>\n",
       "      <td>0.0</td>\n",
       "      <td>13.20</td>\n",
       "      <td>4.40</td>\n",
       "      <td>2016-12-17 16:00:00</td>\n",
       "      <td>1.41</td>\n",
       "      <td>0</td>\n",
       "      <td>0</td>\n",
       "      <td>0</td>\n",
       "      <td>0</td>\n",
       "      <td>0</td>\n",
       "      <td>1</td>\n",
       "      <td>0</td>\n",
       "    </tr>\n",
       "    <tr>\n",
       "      <th>2</th>\n",
       "      <td>0.0</td>\n",
       "      <td>0.55</td>\n",
       "      <td>2016-12-16 15:38:00</td>\n",
       "      <td>0.0</td>\n",
       "      <td>25.83</td>\n",
       "      <td>1.63</td>\n",
       "      <td>0.00</td>\n",
       "      <td>0.0</td>\n",
       "      <td>17.82</td>\n",
       "      <td>6.67</td>\n",
       "      <td>2016-12-16 16:00:00</td>\n",
       "      <td>2.07</td>\n",
       "      <td>0</td>\n",
       "      <td>0</td>\n",
       "      <td>0</td>\n",
       "      <td>0</td>\n",
       "      <td>0</td>\n",
       "      <td>0</td>\n",
       "      <td>1</td>\n",
       "    </tr>\n",
       "    <tr>\n",
       "      <th>3</th>\n",
       "      <td>0.0</td>\n",
       "      <td>0.57</td>\n",
       "      <td>2016-12-16 19:40:00</td>\n",
       "      <td>0.0</td>\n",
       "      <td>16.86</td>\n",
       "      <td>2.01</td>\n",
       "      <td>10.12</td>\n",
       "      <td>0.0</td>\n",
       "      <td>17.65</td>\n",
       "      <td>6.75</td>\n",
       "      <td>2016-12-16 20:00:00</td>\n",
       "      <td>1.35</td>\n",
       "      <td>0</td>\n",
       "      <td>0</td>\n",
       "      <td>0</td>\n",
       "      <td>0</td>\n",
       "      <td>0</td>\n",
       "      <td>0</td>\n",
       "      <td>1</td>\n",
       "    </tr>\n",
       "    <tr>\n",
       "      <th>4</th>\n",
       "      <td>0.0</td>\n",
       "      <td>0.17</td>\n",
       "      <td>2016-12-16 09:53:00</td>\n",
       "      <td>0.0</td>\n",
       "      <td>8.00</td>\n",
       "      <td>0.59</td>\n",
       "      <td>0.00</td>\n",
       "      <td>0.0</td>\n",
       "      <td>5.40</td>\n",
       "      <td>2.05</td>\n",
       "      <td>2016-12-16 10:00:00</td>\n",
       "      <td>0.64</td>\n",
       "      <td>0</td>\n",
       "      <td>0</td>\n",
       "      <td>0</td>\n",
       "      <td>0</td>\n",
       "      <td>0</td>\n",
       "      <td>0</td>\n",
       "      <td>1</td>\n",
       "    </tr>\n",
       "  </tbody>\n",
       "</table>\n",
       "</div>"
      ],
      "text/plain": [
       "       Additional Pickups  Black Car Fund           Date/Time  Distance  \\\n",
       "index                                                                     \n",
       "0                     0.0            0.35 2016-12-17 18:51:00       0.0   \n",
       "1                     0.0            0.00 2016-12-17 15:33:00       0.0   \n",
       "2                     0.0            0.55 2016-12-16 15:38:00       0.0   \n",
       "3                     0.0            0.57 2016-12-16 19:40:00       0.0   \n",
       "4                     0.0            0.17 2016-12-16 09:53:00       0.0   \n",
       "\n",
       "        Fare  Sales Tax  Surge  Time  Total  Uber Fee      DATE_formatted  \\\n",
       "index                                                                       \n",
       "0      11.32       1.24   3.40   0.0   9.45      3.68 2016-12-17 19:00:00   \n",
       "1      17.60       0.00   0.00   0.0  13.20      4.40 2016-12-17 16:00:00   \n",
       "2      25.83       1.63   0.00   0.0  17.82      6.67 2016-12-16 16:00:00   \n",
       "3      16.86       2.01  10.12   0.0  17.65      6.75 2016-12-16 20:00:00   \n",
       "4       8.00       0.59   0.00   0.0   5.40      2.05 2016-12-16 10:00:00   \n",
       "\n",
       "       new_Sales Tax  Type_POOL  Type_Pool  Type_UberX  Type_UberX VIP  \\\n",
       "index                                                                    \n",
       "0               0.91          0          0           0               0   \n",
       "1               1.41          0          0           0               0   \n",
       "2               2.07          0          0           0               0   \n",
       "3               1.35          0          0           0               0   \n",
       "4               0.64          0          0           0               0   \n",
       "\n",
       "       Type_UberXL  Type_uber X  Type_uberX  \n",
       "index                                        \n",
       "0                0            0           1  \n",
       "1                0            1           0  \n",
       "2                0            0           1  \n",
       "3                0            0           1  \n",
       "4                0            0           1  "
      ]
     },
     "execution_count": 76,
     "metadata": {},
     "output_type": "execute_result"
    }
   ],
   "source": [
    "df.head()"
   ]
  },
  {
   "cell_type": "code",
   "execution_count": 94,
   "metadata": {},
   "outputs": [],
   "source": [
    "from sklearn.model_selection import cross_val_score, GridSearchCV\n",
    "from sklearn.ensemble import BaggingRegressor, ExtraTreesRegressor\n",
    "from sklearn.ensemble import ExtraTreesRegressor\n",
    "from sklearn.linear_model import Lasso, Ridge\n",
    "from sklearn.metrics import accuracy_score, mean_squared_error\n",
    "from sklearn.preprocessing import StandardScaler\n",
    "from sklearn.model_selection import train_test_split\n",
    "from sklearn.linear_model import LinearRegression\n"
   ]
  },
  {
   "cell_type": "code",
   "execution_count": 78,
   "metadata": {},
   "outputs": [
    {
     "data": {
      "text/plain": [
       "Index(['Additional Pickups', 'Black Car Fund', 'Date/Time', 'Distance', 'Fare',\n",
       "       'Sales Tax', 'Surge', 'Time', 'Total', 'Uber Fee', 'DATE_formatted',\n",
       "       'new_Sales Tax', 'Type_POOL', 'Type_Pool', 'Type_UberX',\n",
       "       'Type_UberX VIP', 'Type_UberXL', 'Type_uber X', 'Type_uberX'],\n",
       "      dtype='object')"
      ]
     },
     "execution_count": 78,
     "metadata": {},
     "output_type": "execute_result"
    }
   ],
   "source": [
    "df.columns"
   ]
  },
  {
   "cell_type": "code",
   "execution_count": 89,
   "metadata": {},
   "outputs": [],
   "source": [
    "X = df[[\"Additional Pickups\", \"Black Car Fund\", \"Distance\", \"Fare\",\n",
    "        \"Sales Tax\", \"Time\", \"Total\", \"Uber Fee\", \"Type_POOL\",\n",
    "        \"Type_UberX\", \"Type_UberX VIP\", \"Type_UberXL\", \"Type_uber X\",\n",
    "        \"Type_uberX\", \"Type_Pool\"]]\n",
    "y = df[\"Surge\"]"
   ]
  },
  {
   "cell_type": "code",
   "execution_count": 90,
   "metadata": {},
   "outputs": [],
   "source": [
    "X_train, X_test, y_train, y_test = train_test_split(X, y, test_size=0.33,\n",
    "                                                    random_state=42)"
   ]
  },
  {
   "cell_type": "code",
   "execution_count": 91,
   "metadata": {},
   "outputs": [],
   "source": [
    "ss = StandardScaler()"
   ]
  },
  {
   "cell_type": "code",
   "execution_count": 92,
   "metadata": {},
   "outputs": [
    {
     "name": "stdout",
     "output_type": "stream",
     "text": [
      "(1484, 15)\n",
      "(731, 15)\n"
     ]
    }
   ],
   "source": [
    "print(X_train.shape)\n",
    "print(X_test.shape)"
   ]
  },
  {
   "cell_type": "code",
   "execution_count": 93,
   "metadata": {},
   "outputs": [
    {
     "name": "stderr",
     "output_type": "stream",
     "text": [
      "/anaconda3/lib/python3.6/site-packages/sklearn/preprocessing/data.py:625: DataConversionWarning: Data with input dtype uint8, float64 were all converted to float64 by StandardScaler.\n",
      "  return self.partial_fit(X, y)\n",
      "/anaconda3/lib/python3.6/site-packages/sklearn/base.py:462: DataConversionWarning: Data with input dtype uint8, float64 were all converted to float64 by StandardScaler.\n",
      "  return self.fit(X, **fit_params).transform(X)\n",
      "/anaconda3/lib/python3.6/site-packages/ipykernel_launcher.py:2: DataConversionWarning: Data with input dtype uint8, float64 were all converted to float64 by StandardScaler.\n",
      "  \n"
     ]
    }
   ],
   "source": [
    "X_train_sc = ss.fit_transform(X_train)\n",
    "X_test_sc = ss.transform(X_test)"
   ]
  },
  {
   "cell_type": "code",
   "execution_count": 95,
   "metadata": {},
   "outputs": [],
   "source": [
    "linreg = LinearRegression()"
   ]
  },
  {
   "cell_type": "code",
   "execution_count": 96,
   "metadata": {},
   "outputs": [
    {
     "data": {
      "text/plain": [
       "array([0.54151575, 0.0040573 , 0.49026508])"
      ]
     },
     "execution_count": 96,
     "metadata": {},
     "output_type": "execute_result"
    }
   ],
   "source": [
    "cross_val_score(linreg, X_train_sc, y_train, cv=3)"
   ]
  },
  {
   "cell_type": "code",
   "execution_count": 97,
   "metadata": {},
   "outputs": [
    {
     "data": {
      "text/plain": [
       "LinearRegression(copy_X=True, fit_intercept=True, n_jobs=None,\n",
       "         normalize=False)"
      ]
     },
     "execution_count": 97,
     "metadata": {},
     "output_type": "execute_result"
    }
   ],
   "source": [
    "linreg.fit(X_train_sc, y_train)"
   ]
  },
  {
   "cell_type": "code",
   "execution_count": 98,
   "metadata": {},
   "outputs": [
    {
     "data": {
      "text/plain": [
       "0.34596823239234326"
      ]
     },
     "execution_count": 98,
     "metadata": {},
     "output_type": "execute_result"
    }
   ],
   "source": [
    "linreg.score(X_test_sc, y_test)"
   ]
  },
  {
   "cell_type": "markdown",
   "metadata": {},
   "source": [
    "# TUCKER, \n",
    "### I STOPPED HERE FOR NOW... BELOW IS THE WEATHER INFO I WILL WORK WITH AFTER I HEAR FROM YOU!"
   ]
  },
  {
   "cell_type": "code",
   "execution_count": null,
   "metadata": {},
   "outputs": [],
   "source": [
    "'alpha'.replace('a', 'b')"
   ]
  },
  {
   "cell_type": "code",
   "execution_count": null,
   "metadata": {},
   "outputs": [],
   "source": [
    "df = df.apply(lambda x: x.str.replace(\"$\", \"\") for x in [y for y in df.columns if y != \"Date/Time\"])\n"
   ]
  },
  {
   "cell_type": "code",
   "execution_count": null,
   "metadata": {},
   "outputs": [],
   "source": [
    "df = df.apply(lambda x: x.replace(\"-\", \"\"))"
   ]
  },
  {
   "cell_type": "code",
   "execution_count": null,
   "metadata": {},
   "outputs": [],
   "source": [
    "df.head()"
   ]
  },
  {
   "cell_type": "code",
   "execution_count": null,
   "metadata": {},
   "outputs": [],
   "source": [
    "df = df.map(lambda x: float(x.replace('$',' ')))\n"
   ]
  },
  {
   "cell_type": "code",
   "execution_count": null,
   "metadata": {},
   "outputs": [],
   "source": []
  },
  {
   "cell_type": "code",
   "execution_count": null,
   "metadata": {},
   "outputs": [],
   "source": []
  },
  {
   "cell_type": "code",
   "execution_count": null,
   "metadata": {
    "scrolled": true
   },
   "outputs": [],
   "source": [
    "weather = pd.read_csv(\"./weather.csv\")"
   ]
  },
  {
   "cell_type": "code",
   "execution_count": null,
   "metadata": {
    "scrolled": true
   },
   "outputs": [],
   "source": [
    "weather.head()"
   ]
  },
  {
   "cell_type": "code",
   "execution_count": null,
   "metadata": {},
   "outputs": [],
   "source": [
    "weather[\"DATE\"] = pd.to_datetime(weather[\"DATE\"])"
   ]
  },
  {
   "cell_type": "code",
   "execution_count": null,
   "metadata": {
    "scrolled": true
   },
   "outputs": [],
   "source": [
    "weather.head()"
   ]
  },
  {
   "cell_type": "code",
   "execution_count": null,
   "metadata": {},
   "outputs": [],
   "source": [
    "weather.tail()"
   ]
  },
  {
   "cell_type": "code",
   "execution_count": null,
   "metadata": {},
   "outputs": [],
   "source": [
    "weather.info()"
   ]
  },
  {
   "cell_type": "code",
   "execution_count": null,
   "metadata": {},
   "outputs": [],
   "source": [
    "weather.drop([\"DAILYMaximumDryBulbTemp\", \"DAILYMinimumDryBulbTemp\",\n",
    "              \"DAILYAverageDryBulbTemp\", \"DAILYDeptFromNormalAverageTemp\",\n",
    "              \"DAILYAverageRelativeHumidity\", \"DAILYAverageDewPointTemp\",\n",
    "              \"DAILYAverageWetBulbTemp\", \"DAILYHeatingDegreeDays\",\n",
    "              \"DAILYCoolingDegreeDays\", \"DAILYSunrise\", \"DAILYSunset\",\n",
    "              \"DAILYWeather\", \"DAILYPrecip\", \"DAILYSnowfall\",\n",
    "              \"DAILYSnowDepth\", \"DAILYAverageStationPressure\",\n",
    "              \"DAILYAverageSeaLevelPressure\", \"DAILYAverageWindSpeed\",\n",
    "              \"PeakWindDirection\", \"DAILYSustainedWindSpeed\",\n",
    "              \"DAILYSustainedWindDirection\", \"MonthlyMaximumTemp\",\n",
    "              \"MonthlyMinimumTemp\", \"MonthlyMeanTemp\", \"MonthlyAverageRH\",\n",
    "              \"MonthlyDewpointTemp\", \"MonthlyWetBulbTemp\",\n",
    "              \"MonthlyAvgHeatingDegreeDays\", \"MonthlyAvgCoolingDegreeDays\",\n",
    "              \"MonthlyStationPressure\", \"MonthlyTotalLiquidPrecip\",\n",
    "              \"MonthlyGreatestPrecip\", \"MonthlyGreatestPrecipDate\",\n",
    "              \"MonthlyGreatestSnowfall\", \"MonthlyGreatestSnowfallDate\",\n",
    "              \"MonthlyGreatestSnowDepth\", \"MonthlyGreatestSnowDepthDate\",\n",
    "              \"MonthlyDaysWithGT90Temp\", \"MonthlyDaysWithLT32Temp\",\n",
    "              \"MonthlyDaysWithGT32Temp\", \"MonthlyDaysWithLT0Temp\",\n",
    "              \"MonthlyDaysWithGT001Precip\", \"MonthlyDaysWithGT010Precip\",\n",
    "              \"MonthlyDaysWithGT1Snow\", \"MonthlyMaxSeaLevelPressureValue\",\n",
    "              \"MonthlyMaxSeaLevelPressureDate\", \"MonthlyMaxSeaLevelPressureTime\",\n",
    "              \"MonthlyMinSeaLevelPressureValue\", \"MonthlyMinSeaLevelPressureDate\",\n",
    "              \"MonthlyMinSeaLevelPressureTime\", \"MonthlyTotalHeatingDegreeDays\",\n",
    "              \"MonthlyTotalCoolingDegreeDays\", \"MonthlyDeptFromNormalHeatingDD\",\n",
    "              \"MonthlyDeptFromNormalCoolingDD\", \"MonthlyTotalSeasonToDateHeatingDD\",\n",
    "              \"MonthlyTotalSeasonToDateCoolingDD\"],axis=1, inplace=True)\n",
    "\n",
    "\n",
    "\n",
    "\n"
   ]
  },
  {
   "cell_type": "code",
   "execution_count": null,
   "metadata": {},
   "outputs": [],
   "source": [
    "weather.shape"
   ]
  },
  {
   "cell_type": "code",
   "execution_count": null,
   "metadata": {},
   "outputs": [],
   "source": [
    "weather.columns"
   ]
  },
  {
   "cell_type": "code",
   "execution_count": null,
   "metadata": {},
   "outputs": [],
   "source": [
    "weather.drop([\"DAILYPeakWindSpeed\", \"MonthlySeaLevelPressure\",\n",
    "              \"MonthlyAverageWindSpeed\", \"MonthlyTotalSnowfall\",\n",
    "              \"MonthlyDeptFromNormalMaximumTemp\", \"MonthlyDeptFromNormalMinimumTemp\",\n",
    "              \"MonthlyDeptFromNormalAverageTemp\", \"MonthlyDeptFromNormalPrecip\"],\n",
    "              axis=1, inplace=True)\n",
    "\n"
   ]
  },
  {
   "cell_type": "code",
   "execution_count": null,
   "metadata": {},
   "outputs": [],
   "source": [
    "weather.shape"
   ]
  },
  {
   "cell_type": "code",
   "execution_count": null,
   "metadata": {},
   "outputs": [],
   "source": [
    "weather.columns"
   ]
  },
  {
   "cell_type": "code",
   "execution_count": null,
   "metadata": {},
   "outputs": [],
   "source": [
    "weather.head()"
   ]
  },
  {
   "cell_type": "code",
   "execution_count": null,
   "metadata": {},
   "outputs": [],
   "source": [
    "weather.isnull().sum()"
   ]
  },
  {
   "cell_type": "code",
   "execution_count": null,
   "metadata": {},
   "outputs": [],
   "source": [
    "weather.drop([\"HOURLYPRSENTWEATHERTYPE\", \"HOURLYWindGustSpeed\",\n",
    "              \"HOURLYPressureChange\"], axis=1, inplace=True)"
   ]
  },
  {
   "cell_type": "code",
   "execution_count": null,
   "metadata": {},
   "outputs": [],
   "source": [
    "weather.isnull().sum()"
   ]
  },
  {
   "cell_type": "code",
   "execution_count": null,
   "metadata": {},
   "outputs": [],
   "source": [
    "weather.shape"
   ]
  },
  {
   "cell_type": "code",
   "execution_count": null,
   "metadata": {},
   "outputs": [],
   "source": [
    "weather.head()"
   ]
  },
  {
   "cell_type": "code",
   "execution_count": null,
   "metadata": {},
   "outputs": [],
   "source": [
    "weather[\"DATE\"] = pd.to_datetime(weather[\"DATE\"])"
   ]
  },
  {
   "cell_type": "code",
   "execution_count": null,
   "metadata": {},
   "outputs": [],
   "source": [
    "weather['hour'] = weather[\"DATE\"].dt.round('H').dt.hour"
   ]
  },
  {
   "cell_type": "code",
   "execution_count": null,
   "metadata": {},
   "outputs": [],
   "source": [
    "weather['DATE_formatted'] = [x.round('H') for x in weather['DATE']]"
   ]
  },
  {
   "cell_type": "code",
   "execution_count": null,
   "metadata": {},
   "outputs": [],
   "source": [
    "weather.head()"
   ]
  },
  {
   "cell_type": "code",
   "execution_count": null,
   "metadata": {},
   "outputs": [],
   "source": [
    "weather.tail()"
   ]
  },
  {
   "cell_type": "code",
   "execution_count": null,
   "metadata": {},
   "outputs": [],
   "source": [
    "weather.isnull().sum()"
   ]
  },
  {
   "cell_type": "code",
   "execution_count": null,
   "metadata": {},
   "outputs": [],
   "source": []
  },
  {
   "cell_type": "code",
   "execution_count": null,
   "metadata": {},
   "outputs": [],
   "source": []
  },
  {
   "cell_type": "code",
   "execution_count": null,
   "metadata": {
    "scrolled": true
   },
   "outputs": [],
   "source": [
    "[col for col in weather.columns if col.contains == \"HOURLY\"]"
   ]
  },
  {
   "cell_type": "code",
   "execution_count": null,
   "metadata": {},
   "outputs": [],
   "source": [
    "weather[[col for col in weather.columns if \"HOURLY\" in col]] "
   ]
  },
  {
   "cell_type": "code",
   "execution_count": null,
   "metadata": {},
   "outputs": [],
   "source": []
  },
  {
   "cell_type": "code",
   "execution_count": null,
   "metadata": {
    "scrolled": true
   },
   "outputs": [],
   "source": [
    "weather.loc[0]"
   ]
  },
  {
   "cell_type": "code",
   "execution_count": null,
   "metadata": {},
   "outputs": [],
   "source": [
    "len(weather.columns)"
   ]
  },
  {
   "cell_type": "code",
   "execution_count": null,
   "metadata": {},
   "outputs": [],
   "source": [
    "weather"
   ]
  },
  {
   "cell_type": "code",
   "execution_count": null,
   "metadata": {},
   "outputs": [],
   "source": [
    "weather.shape"
   ]
  },
  {
   "cell_type": "code",
   "execution_count": null,
   "metadata": {},
   "outputs": [],
   "source": [
    "15711 / 24"
   ]
  },
  {
   "cell_type": "code",
   "execution_count": null,
   "metadata": {},
   "outputs": [],
   "source": [
    "654 / 365"
   ]
  },
  {
   "cell_type": "code",
   "execution_count": null,
   "metadata": {},
   "outputs": [],
   "source": [
    "weather.loc[0]"
   ]
  },
  {
   "cell_type": "code",
   "execution_count": null,
   "metadata": {},
   "outputs": [],
   "source": [
    "weather[\"HOURLYDewPointTempF\"]"
   ]
  },
  {
   "cell_type": "code",
   "execution_count": null,
   "metadata": {},
   "outputs": [],
   "source": [
    "[col for col in weather.columns]"
   ]
  },
  {
   "cell_type": "code",
   "execution_count": null,
   "metadata": {},
   "outputs": [],
   "source": []
  },
  {
   "cell_type": "code",
   "execution_count": null,
   "metadata": {},
   "outputs": [],
   "source": [
    "temp = pd.to_datetime(weather.loc[0, \"DATE\"]).round(\"H\")"
   ]
  },
  {
   "cell_type": "code",
   "execution_count": null,
   "metadata": {},
   "outputs": [],
   "source": [
    "temp"
   ]
  },
  {
   "cell_type": "code",
   "execution_count": null,
   "metadata": {},
   "outputs": [],
   "source": [
    "df.loc[0, \"Date/Time\"]"
   ]
  },
  {
   "cell_type": "code",
   "execution_count": null,
   "metadata": {},
   "outputs": [],
   "source": [
    "pd.to_datetime(df.loc[0, \"Date/Time\"])"
   ]
  },
  {
   "cell_type": "code",
   "execution_count": null,
   "metadata": {},
   "outputs": [],
   "source": [
    "temp.hour"
   ]
  },
  {
   "cell_type": "code",
   "execution_count": null,
   "metadata": {},
   "outputs": [],
   "source": []
  },
  {
   "cell_type": "code",
   "execution_count": null,
   "metadata": {
    "scrolled": true
   },
   "outputs": [],
   "source": [
    "weather.info()"
   ]
  },
  {
   "cell_type": "code",
   "execution_count": null,
   "metadata": {},
   "outputs": [],
   "source": [
    "df.isnull().sum()"
   ]
  },
  {
   "cell_type": "code",
   "execution_count": null,
   "metadata": {},
   "outputs": [],
   "source": [
    "df.drop(\"Email\", \"Phone Number\")"
   ]
  },
  {
   "cell_type": "code",
   "execution_count": null,
   "metadata": {},
   "outputs": [],
   "source": [
    "df.columns"
   ]
  },
  {
   "cell_type": "code",
   "execution_count": null,
   "metadata": {},
   "outputs": [],
   "source": [
    "df.head()"
   ]
  },
  {
   "cell_type": "code",
   "execution_count": null,
   "metadata": {},
   "outputs": [],
   "source": [
    "df.iloc[0]"
   ]
  },
  {
   "cell_type": "code",
   "execution_count": null,
   "metadata": {},
   "outputs": [],
   "source": []
  },
  {
   "cell_type": "code",
   "execution_count": null,
   "metadata": {},
   "outputs": [],
   "source": [
    "price = 3.68 + 3.4 + 1.24 + 11.32 + .35\n",
    "price"
   ]
  },
  {
   "cell_type": "code",
   "execution_count": null,
   "metadata": {},
   "outputs": [],
   "source": [
    "11.32 * .3"
   ]
  },
  {
   "cell_type": "code",
   "execution_count": null,
   "metadata": {},
   "outputs": [],
   "source": [
    "11.32 - 1.24 + 3.4 - 3.68 - .35\n"
   ]
  },
  {
   "cell_type": "code",
   "execution_count": null,
   "metadata": {},
   "outputs": [],
   "source": [
    "31.17 - 24.33\n"
   ]
  },
  {
   "cell_type": "code",
   "execution_count": null,
   "metadata": {},
   "outputs": [],
   "source": [
    "3.66 + 3.19"
   ]
  },
  {
   "cell_type": "code",
   "execution_count": null,
   "metadata": {},
   "outputs": [],
   "source": [
    "uber = 3.68"
   ]
  },
  {
   "cell_type": "code",
   "execution_count": null,
   "metadata": {},
   "outputs": [],
   "source": [
    "other = 1.24 + .35"
   ]
  },
  {
   "cell_type": "code",
   "execution_count": null,
   "metadata": {},
   "outputs": [],
   "source": [
    "price - (3.68 + 1.24 + )"
   ]
  },
  {
   "cell_type": "code",
   "execution_count": null,
   "metadata": {},
   "outputs": [],
   "source": [
    "df[\"Total\"].isnull().sum()"
   ]
  },
  {
   "cell_type": "code",
   "execution_count": null,
   "metadata": {},
   "outputs": [],
   "source": [
    "df[\"Fare\"].isnull().sum()"
   ]
  },
  {
   "cell_type": "code",
   "execution_count": null,
   "metadata": {},
   "outputs": [],
   "source": [
    "df[\"Distance\"]"
   ]
  },
  {
   "cell_type": "code",
   "execution_count": null,
   "metadata": {},
   "outputs": [],
   "source": [
    "df[\"Distance\"].isnull().sum()"
   ]
  },
  {
   "cell_type": "code",
   "execution_count": null,
   "metadata": {},
   "outputs": [],
   "source": [
    "distance = 1.1785"
   ]
  },
  {
   "cell_type": "code",
   "execution_count": null,
   "metadata": {
    "scrolled": true
   },
   "outputs": [],
   "source": [
    "df.shape"
   ]
  },
  {
   "cell_type": "code",
   "execution_count": null,
   "metadata": {},
   "outputs": [],
   "source": [
    "df = df.drop([\"Phone Number\", \"Email\", \"Trip ID\", \"Wait Time\",\n",
    "              \"Quest Promotion\", \"Other Promotions\",\n",
    "              \"Vehicle Related Fee\", \"Consecutive Trips Promotion\"],\n",
    "             axis=1, inplace=True)\n"
   ]
  },
  {
   "cell_type": "code",
   "execution_count": null,
   "metadata": {},
   "outputs": [],
   "source": [
    "df"
   ]
  },
  {
   "cell_type": "code",
   "execution_count": null,
   "metadata": {},
   "outputs": [],
   "source": []
  },
  {
   "cell_type": "code",
   "execution_count": null,
   "metadata": {
    "scrolled": false
   },
   "outputs": [],
   "source": [
    "df = pd.join(\"week1\", \"week2\")"
   ]
  },
  {
   "cell_type": "code",
   "execution_count": null,
   "metadata": {
    "scrolled": true
   },
   "outputs": [],
   "source": [
    "!pip install sodapy"
   ]
  },
  {
   "cell_type": "code",
   "execution_count": null,
   "metadata": {},
   "outputs": [],
   "source": [
    "from IPython.core.display import HTML\n",
    "from sodapy import Socrata"
   ]
  },
  {
   "cell_type": "code",
   "execution_count": null,
   "metadata": {},
   "outputs": [],
   "source": [
    "API_KEY = \"h7yCtYE6RefybPVtrXLqQ2iPY\"\n",
    "API_SECRET = \"kEfVlS7v4ng-BPLIRxlKXkJLZdH0AOQGEhfn\"\n",
    "\n",
    "network = socrata(API_KEY, API_SECRET)"
   ]
  },
  {
   "cell_type": "code",
   "execution_count": null,
   "metadata": {},
   "outputs": [],
   "source": []
  }
 ],
 "metadata": {
  "kernelspec": {
   "display_name": "Python 3",
   "language": "python",
   "name": "python3"
  },
  "language_info": {
   "codemirror_mode": {
    "name": "ipython",
    "version": 3
   },
   "file_extension": ".py",
   "mimetype": "text/x-python",
   "name": "python",
   "nbconvert_exporter": "python",
   "pygments_lexer": "ipython3",
   "version": "3.6.5"
  }
 },
 "nbformat": 4,
 "nbformat_minor": 2
}
